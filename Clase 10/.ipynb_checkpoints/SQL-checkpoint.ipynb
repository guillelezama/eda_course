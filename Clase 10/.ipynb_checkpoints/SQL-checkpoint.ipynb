{
 "cells": [
  {
   "cell_type": "code",
   "execution_count": null,
   "metadata": {
    "colab": {
     "base_uri": "https://localhost:8080/"
    },
    "executionInfo": {
     "elapsed": 56190,
     "status": "ok",
     "timestamp": 1725276127570,
     "user": {
      "displayName": "Guillermo Lezama",
      "userId": "17067344961324283134"
     },
     "user_tz": 180
    },
    "id": "40AXgJe07C3p",
    "outputId": "ef8ac9b0-dc5e-453c-ca27-393b030f3385"
   },
   "outputs": [],
   "source": [
    "# Instalar PySpark en Google Colab\n",
    "!pip install pyspark"
   ]
  },
  {
   "cell_type": "code",
   "execution_count": null,
   "metadata": {
    "executionInfo": {
     "elapsed": 1207,
     "status": "ok",
     "timestamp": 1725276132270,
     "user": {
      "displayName": "Guillermo Lezama",
      "userId": "17067344961324283134"
     },
     "user_tz": 180
    },
    "id": "heIsOJWI7FL7"
   },
   "outputs": [],
   "source": [
    "from pyspark.sql import SparkSession\n",
    "import pandas as pd"
   ]
  },
  {
   "cell_type": "code",
   "execution_count": null,
   "metadata": {
    "executionInfo": {
     "elapsed": 336,
     "status": "ok",
     "timestamp": 1725276174350,
     "user": {
      "displayName": "Guillermo Lezama",
      "userId": "17067344961324283134"
     },
     "user_tz": 180
    },
    "id": "CoHseqVU7P84"
   },
   "outputs": [],
   "source": [
    "# Usar pandas para descargar el archivo\n",
    "url = \"https://fred.stlouisfed.org/graph/fredgraph.csv?bgcolor=%23e1e9f0&chart_type=line&drp=0&fo=open%20sans&graph_bgcolor=%23ffffff&height=450&mode=fred&recession_bars=on&txtcolor=%23444444&ts=12&tts=12&width=1320&nt=0&thu=0&trc=0&show_legend=yes&show_axis_titles=yes&show_tooltip=yes&id=CPIAUCSL&scale=left&cosd=1947-01-01&coed=2024-07-01&line_color=%234572a7&link_values=false&line_style=solid&mark_type=none&mw=3&lw=2&ost=-99999&oet=99999&mma=0&fml=a&fq=Monthly&fam=avg&fgst=lin&fgsnd=2020-02-01&line_index=1&transformation=lin&vintage_date=2024-08-31&revision_date=2024-08-31&nd=1947-01-01\"\n",
    "\n",
    "# Descargar el CSV\n",
    "cpi_data = pd.read_csv(url)\n",
    "\n",
    "# Guardar el archivo localmente\n",
    "cpi_data.to_csv(\"CPIAUCSL.csv\", index=False)\n"
   ]
  },
  {
   "cell_type": "markdown",
   "metadata": {
    "id": "yu3XBNfKeWrq"
   },
   "source": [
    "Acá empieza la parte de SQL/PySpark"
   ]
  },
  {
   "cell_type": "code",
   "execution_count": null,
   "metadata": {
    "executionInfo": {
     "elapsed": 7322,
     "status": "ok",
     "timestamp": 1725276264379,
     "user": {
      "displayName": "Guillermo Lezama",
      "userId": "17067344961324283134"
     },
     "user_tz": 180
    },
    "id": "g1XaZa8S7Gfu"
   },
   "outputs": [],
   "source": [
    "# Crear una sesión de Spark\n",
    "spark = SparkSession.builder.appName(\"SQL Basics\").getOrCreate()"
   ]
  },
  {
   "cell_type": "code",
   "execution_count": null,
   "metadata": {
    "executionInfo": {
     "elapsed": 11476,
     "status": "ok",
     "timestamp": 1725276294310,
     "user": {
      "displayName": "Guillermo Lezama",
      "userId": "17067344961324283134"
     },
     "user_tz": 180
    },
    "id": "xYovDBbA8Coi"
   },
   "outputs": [],
   "source": [
    "# Cargar el dataset desde el archivo CSV local\n",
    "cpi_df = spark.read.csv(\"CPIAUCSL.csv\", header=True, inferSchema=True)"
   ]
  },
  {
   "cell_type": "code",
   "execution_count": null,
   "metadata": {
    "colab": {
     "base_uri": "https://localhost:8080/"
    },
    "executionInfo": {
     "elapsed": 421,
     "status": "ok",
     "timestamp": 1725276342733,
     "user": {
      "displayName": "Guillermo Lezama",
      "userId": "17067344961324283134"
     },
     "user_tz": 180
    },
    "id": "6Zt1xlEh8Nn3",
    "outputId": "e3c64479-2524-4316-e30e-db21edb66344"
   },
   "outputs": [],
   "source": [
    "# Mostrar la estructura del DataFrame\n",
    "cpi_df.printSchema()"
   ]
  },
  {
   "cell_type": "code",
   "execution_count": null,
   "metadata": {
    "colab": {
     "base_uri": "https://localhost:8080/"
    },
    "executionInfo": {
     "elapsed": 1526,
     "status": "ok",
     "timestamp": 1725276422348,
     "user": {
      "displayName": "Guillermo Lezama",
      "userId": "17067344961324283134"
     },
     "user_tz": 180
    },
    "id": "tKnVCnRoe9Xx",
    "outputId": "34739c4b-cae2-4c5c-c83d-1225502ee884"
   },
   "outputs": [],
   "source": [
    "# Mostrar las primeras filas del dataset\n",
    "cpi_df.show(5)"
   ]
  },
  {
   "cell_type": "code",
   "execution_count": null,
   "metadata": {
    "executionInfo": {
     "elapsed": 463,
     "status": "ok",
     "timestamp": 1725276453072,
     "user": {
      "displayName": "Guillermo Lezama",
      "userId": "17067344961324283134"
     },
     "user_tz": 180
    },
    "id": "wdkw3tl-eKLj"
   },
   "outputs": [],
   "source": [
    "# Registrar el DataFrame como una tabla SQL temporal\n",
    "cpi_df.createOrReplaceTempView(\"cpi_data\")"
   ]
  },
  {
   "cell_type": "code",
   "execution_count": null,
   "metadata": {
    "colab": {
     "base_uri": "https://localhost:8080/"
    },
    "executionInfo": {
     "elapsed": 863,
     "status": "ok",
     "timestamp": 1725276895782,
     "user": {
      "displayName": "Guillermo Lezama",
      "userId": "17067344961324283134"
     },
     "user_tz": 180
    },
    "id": "X6DP7BadeUUp",
    "outputId": "921de1d6-93dd-4d3f-a789-a6857339f7e5"
   },
   "outputs": [],
   "source": [
    "# Consultar información básica del dataset\n",
    "spark.sql(\"SELECT COUNT(*) AS guille FROM cpi_data\").show()"
   ]
  },
  {
   "cell_type": "code",
   "execution_count": null,
   "metadata": {
    "colab": {
     "base_uri": "https://localhost:8080/"
    },
    "executionInfo": {
     "elapsed": 754,
     "status": "ok",
     "timestamp": 1725277225881,
     "user": {
      "displayName": "Guillermo Lezama",
      "userId": "17067344961324283134"
     },
     "user_tz": 180
    },
    "id": "YDoj3LcWf0hw",
    "outputId": "17b6e5d9-3fe9-4918-947b-3eae40957417"
   },
   "outputs": [],
   "source": [
    "# Calcular estadísticas descriptivas (media, máximo, mínimo) para el índice de precios al consumidor (CPIAUCSL)\n",
    "spark.sql(\"SELECT AVG(CPIAUCSL) AS federico, MAX(CPIAUCSL) AS max_cpi, MIN(CPIAUCSL) AS min_cpi, MEDIAN(CPIAUCSL) AS median_cpi  FROM cpi_data\").show()"
   ]
  },
  {
   "cell_type": "code",
   "execution_count": null,
   "metadata": {
    "colab": {
     "base_uri": "https://localhost:8080/"
    },
    "executionInfo": {
     "elapsed": 345,
     "status": "ok",
     "timestamp": 1725277081701,
     "user": {
      "displayName": "Guillermo Lezama",
      "userId": "17067344961324283134"
     },
     "user_tz": 180
    },
    "id": "0b664Y7FeWkz",
    "outputId": "aab9da8c-443d-4abc-8d95-19e64e0e6e48"
   },
   "outputs": [],
   "source": [
    "# Filtrar datos para observar el CPI después del año 2000\n",
    "spark.sql(\"\"\"\n",
    "    SELECT *\n",
    "    FROM cpi_data\n",
    "    WHERE DATE >= '2020-01-01'\n",
    "\"\"\").show()"
   ]
  },
  {
   "cell_type": "code",
   "execution_count": null,
   "metadata": {
    "colab": {
     "base_uri": "https://localhost:8080/"
    },
    "executionInfo": {
     "elapsed": 2175,
     "status": "ok",
     "timestamp": 1725277334727,
     "user": {
      "displayName": "Guillermo Lezama",
      "userId": "17067344961324283134"
     },
     "user_tz": 180
    },
    "id": "8l6aDkwfe7MV",
    "outputId": "66bd54c7-8223-4912-a90b-e29359c6f1ad"
   },
   "outputs": [],
   "source": [
    "# Extraer el año y calcular el CPI promedio por año\n",
    "spark.sql(\"\"\"\n",
    "    SELECT\n",
    "        SUBSTRING(DATE, 1, 4) AS Year,\n",
    "        AVG(CPIAUCSL) AS average_cpi\n",
    "    FROM cpi_data\n",
    "    GROUP BY Year\n",
    "    ORDER BY Year\n",
    "\"\"\").show()\n"
   ]
  },
  {
   "cell_type": "code",
   "execution_count": null,
   "metadata": {
    "colab": {
     "base_uri": "https://localhost:8080/"
    },
    "executionInfo": {
     "elapsed": 730,
     "status": "ok",
     "timestamp": 1725277398305,
     "user": {
      "displayName": "Guillermo Lezama",
      "userId": "17067344961324283134"
     },
     "user_tz": 180
    },
    "id": "F4Zja7Lqe_Vk",
    "outputId": "b6e1daf9-b8c7-41ab-e834-4d71d35613a2"
   },
   "outputs": [],
   "source": [
    "# Agrupar por década y calcular el CPI promedio\n",
    "spark.sql(\"\"\"\n",
    "    SELECT\n",
    "        CONCAT(SUBSTRING(DATE, 1, 3), '0s') AS Decade,\n",
    "        AVG(CPIAUCSL) AS average_cpi\n",
    "    FROM cpi_data\n",
    "    GROUP BY Decade\n",
    "    ORDER BY Decade\n",
    "\"\"\").show()"
   ]
  },
  {
   "cell_type": "code",
   "execution_count": null,
   "metadata": {
    "colab": {
     "base_uri": "https://localhost:8080/"
    },
    "executionInfo": {
     "elapsed": 1232,
     "status": "ok",
     "timestamp": 1725125393412,
     "user": {
      "displayName": "Guillermo Lezama",
      "userId": "17067344961324283134"
     },
     "user_tz": 180
    },
    "id": "v4GC9ijIfEtn",
    "outputId": "06c4fe11-9ec0-4122-b697-21021693bbe2"
   },
   "outputs": [],
   "source": [
    "# Calcular el cambio porcentual mensual en el CPI\n",
    "spark.sql(\"\"\"\n",
    "    SELECT\n",
    "        DATE,\n",
    "        CPIAUCSL,\n",
    "        (CPIAUCSL - LAG(CPIAUCSL, 1) OVER (ORDER BY DATE)) / LAG(CPIAUCSL, 1) OVER (ORDER BY DATE) AS monthly_change\n",
    "    FROM cpi_data\n",
    "    ORDER BY DATE\n",
    "\"\"\").show()\n"
   ]
  },
  {
   "cell_type": "code",
   "execution_count": null,
   "metadata": {
    "colab": {
     "base_uri": "https://localhost:8080/"
    },
    "executionInfo": {
     "elapsed": 1040,
     "status": "ok",
     "timestamp": 1725125407034,
     "user": {
      "displayName": "Guillermo Lezama",
      "userId": "17067344961324283134"
     },
     "user_tz": 180
    },
    "id": "i20gFoS6fHMa",
    "outputId": "015b98b6-eb17-47c3-8ef7-57555f3be825"
   },
   "outputs": [],
   "source": [
    "# Encontrar las fechas con el CPI más alto y más bajo\n",
    "spark.sql(\"\"\"\n",
    "    SELECT DATE, CPIAUCSL\n",
    "    FROM cpi_data\n",
    "    WHERE CPIAUCSL = (SELECT MAX(CPIAUCSL) FROM cpi_data)\n",
    "       OR CPIAUCSL = (SELECT MIN(CPIAUCSL) FROM cpi_data)\n",
    "\"\"\").show()\n"
   ]
  },
  {
   "cell_type": "code",
   "execution_count": null,
   "metadata": {
    "colab": {
     "base_uri": "https://localhost:8080/"
    },
    "executionInfo": {
     "elapsed": 393,
     "status": "ok",
     "timestamp": 1725125414708,
     "user": {
      "displayName": "Guillermo Lezama",
      "userId": "17067344961324283134"
     },
     "user_tz": 180
    },
    "id": "1fkre1gHfKiI",
    "outputId": "3233c629-2f05-4c93-d137-a83b091628ce"
   },
   "outputs": [],
   "source": [
    "# Calcular la media móvil (rolling average) de 12 meses del CPI\n",
    "spark.sql(\"\"\"\n",
    "    SELECT\n",
    "        DATE,\n",
    "        CPIAUCSL,\n",
    "        AVG(CPIAUCSL) OVER (ORDER BY DATE ROWS BETWEEN 11 PRECEDING AND CURRENT ROW) AS moving_avg\n",
    "    FROM cpi_data\n",
    "\"\"\").show()\n"
   ]
  },
  {
   "cell_type": "code",
   "execution_count": null,
   "metadata": {
    "colab": {
     "base_uri": "https://localhost:8080/"
    },
    "executionInfo": {
     "elapsed": 807,
     "status": "ok",
     "timestamp": 1725125438659,
     "user": {
      "displayName": "Guillermo Lezama",
      "userId": "17067344961324283134"
     },
     "user_tz": 180
    },
    "id": "vc-tqgdcfMkR",
    "outputId": "9cc39aa5-9994-456f-f666-198100b99345"
   },
   "outputs": [],
   "source": [
    "# Crear un índice simple basado en un año base (por ejemplo, 2000)\n",
    "spark.sql(\"\"\"\n",
    "    WITH base_year AS (\n",
    "        SELECT AVG(CPIAUCSL) AS base_cpi\n",
    "        FROM cpi_data\n",
    "        WHERE DATE LIKE '2000%'\n",
    "    )\n",
    "    SELECT\n",
    "        DATE,\n",
    "        CPIAUCSL,\n",
    "        CPIAUCSL / (SELECT base_cpi FROM base_year) * 100 AS cpi_index\n",
    "    FROM cpi_data\n",
    "\"\"\").show()\n"
   ]
  },
  {
   "cell_type": "code",
   "execution_count": null,
   "metadata": {
    "id": "CjI_X_1kfSe1"
   },
   "outputs": [],
   "source": []
  }
 ],
 "metadata": {
  "colab": {
   "authorship_tag": "ABX9TyPyPU406IYF1JJYvcEK3nrI",
   "provenance": []
  },
  "kernelspec": {
   "display_name": "Python 3 (ipykernel)",
   "language": "python",
   "name": "python3"
  },
  "language_info": {
   "codemirror_mode": {
    "name": "ipython",
    "version": 3
   },
   "file_extension": ".py",
   "mimetype": "text/x-python",
   "name": "python",
   "nbconvert_exporter": "python",
   "pygments_lexer": "ipython3",
   "version": "3.11.3"
  }
 },
 "nbformat": 4,
 "nbformat_minor": 1
}
