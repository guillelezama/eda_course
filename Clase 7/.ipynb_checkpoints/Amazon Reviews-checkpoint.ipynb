{
 "cells": [
  {
   "cell_type": "markdown",
   "metadata": {
    "id": "P099lAcimP2v"
   },
   "source": [
    "Por qué el dataset?\n",
    "* Para conocer que vocabulario los clientes asocian a un buen producto, y cual a uno malo.\n",
    "* Qué características se asocian a un buen rating y cuál a uno malo\n",
    "* Para tener matices. Si le doy 2 estrellas, pero las palabras corresponden a un 1, capaz que el producto es de lo peorcito de los de 2 estrellas.\n",
    "* y probablemente más...\n",
    "\n",
    "Objetivo de este análisis: inspeccionar la base de datos para generar un modelo predictivo por el cuál, sabiendo el comentario, tengamos una puntuación.\n",
    "\n",
    "El archivo es de Kaggle, pero es un sample de 150.000 observaciones (el original tiene 500 mil) por temas de espacio."
   ]
  },
  {
   "cell_type": "code",
   "execution_count": 1,
   "metadata": {
    "executionInfo": {
     "elapsed": 1339,
     "status": "ok",
     "timestamp": 1724930261159,
     "user": {
      "displayName": "Guillermo Lezama",
      "userId": "17067344961324283134"
     },
     "user_tz": 180
    },
    "id": "MD-ER4Um8jRd"
   },
   "outputs": [],
   "source": [
    "import pandas as pd\n",
    "import numpy as np\n",
    "import matplotlib.pyplot as plt\n",
    "import seaborn as sns\n",
    "from wordcloud import WordCloud\n",
    "from collections import Counter\n",
    "from nltk.corpus import stopwords\n",
    "from nltk.tokenize import word_tokenize\n",
    "import nltk\n",
    "import re\n"
   ]
  },
  {
   "cell_type": "code",
   "execution_count": 2,
   "metadata": {
    "colab": {
     "base_uri": "https://localhost:8080/"
    },
    "executionInfo": {
     "elapsed": 4234,
     "status": "ok",
     "timestamp": 1724930266406,
     "user": {
      "displayName": "Guillermo Lezama",
      "userId": "17067344961324283134"
     },
     "user_tz": 180
    },
    "id": "eHxYZNJZk9VS",
    "outputId": "d2ef3aba-5ff1-4282-8646-f1a5d6317812"
   },
   "outputs": [
    {
     "name": "stdout",
     "output_type": "stream",
     "text": [
      "\n",
      "Información general del DataFrame:\n",
      "<class 'pandas.core.frame.DataFrame'>\n",
      "RangeIndex: 150000 entries, 0 to 149999\n",
      "Data columns (total 12 columns):\n",
      " #   Column                  Non-Null Count   Dtype \n",
      "---  ------                  --------------   ----- \n",
      " 0   Unnamed: 0              150000 non-null  int64 \n",
      " 1   index                   150000 non-null  int64 \n",
      " 2   Id                      150000 non-null  int64 \n",
      " 3   ProductId               150000 non-null  object\n",
      " 4   UserId                  150000 non-null  object\n",
      " 5   ProfileName             149994 non-null  object\n",
      " 6   HelpfulnessNumerator    150000 non-null  int64 \n",
      " 7   HelpfulnessDenominator  150000 non-null  int64 \n",
      " 8   Score                   150000 non-null  int64 \n",
      " 9   Time                    150000 non-null  int64 \n",
      " 10  Summary                 149990 non-null  object\n",
      " 11  Text                    150000 non-null  object\n",
      "dtypes: int64(7), object(5)\n",
      "memory usage: 13.7+ MB\n",
      "None\n"
     ]
    }
   ],
   "source": [
    "# Cargar el dataset (asumiendo que ya ha sido descargado)\n",
    "df = pd.read_csv('https://github.com/guillelezama/eda_course/raw/main/data/raw/Reviews2.csv')\n",
    "\n",
    "# Información general sobre el DataFrame\n",
    "print(\"\\nInformación general del DataFrame:\")\n",
    "print(df.info())"
   ]
  },
  {
   "cell_type": "code",
   "execution_count": 3,
   "metadata": {
    "colab": {
     "base_uri": "https://localhost:8080/"
    },
    "executionInfo": {
     "elapsed": 9,
     "status": "ok",
     "timestamp": 1724930266406,
     "user": {
      "displayName": "Guillermo Lezama",
      "userId": "17067344961324283134"
     },
     "user_tz": 180
    },
    "id": "PIhSvHarnVdv",
    "outputId": "f2a713ff-6bf8-4cbb-dbd7-0ed2f6d54855"
   },
   "outputs": [
    {
     "name": "stdout",
     "output_type": "stream",
     "text": [
      "Primeras filas del DataFrame:\n",
      "   Unnamed: 0   index      Id   ProductId          UserId  \\\n",
      "0           0  199320  199321  B004O5Y59O  A3BFDEBT5IV4UN   \n",
      "1           1  500849  500850  B002TN49F8  A3PJZ8TU8FDQ1K   \n",
      "2           2   91889   91890  B004YV80O4   AKE6DXEN3GWPC   \n",
      "3           3  456313  456314  B005E5IMII   A3X1WP7M9ICAA   \n",
      "4           4  414758  414759  B005VOOLXM   A3DH53FPYSP9E   \n",
      "\n",
      "                       ProfileName  HelpfulnessNumerator  \\\n",
      "0                          Groucho                     4   \n",
      "1                     Jared Castle                     0   \n",
      "2  Cyndi Beane Henry \"Texicanwife\"                     2   \n",
      "3                        ladysiren                     0   \n",
      "4                        Media Man                     1   \n",
      "\n",
      "   HelpfulnessDenominator  Score        Time  \\\n",
      "0                       4      5  1319760000   \n",
      "1                       0      4  1284422400   \n",
      "2                       3      5  1312588800   \n",
      "3                       0      4  1350345600   \n",
      "4                       2      3  1334620800   \n",
      "\n",
      "                                         Summary  \\\n",
      "0                                      Wonderful   \n",
      "1  Melitta provides rich flavor at a great value   \n",
      "2         Never Let Your Pantry Be Without This!   \n",
      "3                                    Hoop Cheese   \n",
      "4                Unique flavors,  mediocre taste   \n",
      "\n",
      "                                                Text  \n",
      "0  This has to be the best 'at home' espresso I h...  \n",
      "1  Half the price of Starbucks, Melitta offers gr...  \n",
      "2  As an Amazon Vine participant, I often get to ...  \n",
      "3  The Hoop Cheese made it all the way to Afghani...  \n",
      "4  We're a 2-3 cup a day coffee household.  This ...  \n"
     ]
    }
   ],
   "source": [
    "# Mostrar las primeras filas del DataFrame\n",
    "print(\"Primeras filas del DataFrame:\")\n",
    "print(df.head())"
   ]
  },
  {
   "cell_type": "code",
   "execution_count": 4,
   "metadata": {
    "colab": {
     "base_uri": "https://localhost:8080/"
    },
    "executionInfo": {
     "elapsed": 8,
     "status": "ok",
     "timestamp": 1724930266406,
     "user": {
      "displayName": "Guillermo Lezama",
      "userId": "17067344961324283134"
     },
     "user_tz": 180
    },
    "id": "5C_dth5knWfu",
    "outputId": "76347610-11c4-40ab-f654-da1350d92348"
   },
   "outputs": [
    {
     "name": "stdout",
     "output_type": "stream",
     "text": [
      "Últimas filas del DataFrame:\n",
      "        Unnamed: 0   index      Id   ProductId          UserId  \\\n",
      "149995      149995  213584  213585  B00141OVJA  A2Y13Q771A5YE5   \n",
      "149996      149996  175654  175655  B0016BS29S   AT7Q1LVNHMPES   \n",
      "149997      149997  339497  339498  B00375LB9E  A3C18MRX72K9RV   \n",
      "149998      149998  564772  564773  B003DWYXPU  A345TEOPA65GXA   \n",
      "149999      149999  437131  437132  B000WFPJIG  A1ONBPGFNO443W   \n",
      "\n",
      "                                        ProfileName  HelpfulnessNumerator  \\\n",
      "149995                                     T. Stacy                     1   \n",
      "149996  Kathy S. Spencer \"Spencer's Quarter Horses\"                     0   \n",
      "149997                                         Meli                     1   \n",
      "149998                                  Jay Bunting                     1   \n",
      "149999                            Jerry Christensen                     2   \n",
      "\n",
      "        HelpfulnessDenominator  Score        Time  \\\n",
      "149995                       1      5  1241481600   \n",
      "149996                       0      5  1345248000   \n",
      "149997                       2      5  1290384000   \n",
      "149998                       2      5  1301184000   \n",
      "149999                       2      5  1330214400   \n",
      "\n",
      "                                                  Summary  \\\n",
      "149995                                      BOW WOW YUMMY   \n",
      "149996                      Great for cold fall evenings!   \n",
      "149997                                   These Are Great!   \n",
      "149998                                Grat Southern Taste   \n",
      "149999  Wellness Canned Cat food-Turkey Recipe, 12-pac...   \n",
      "\n",
      "                                                     Text  \n",
      "149995  My boys just love them....they will dance for ...  \n",
      "149996  My husband loves this stuff.  We moved from Co...  \n",
      "149997  I bought these sprinkles for my cupcakes and n...  \n",
      "149998  I love peaches and this tea has a great taste ...  \n",
      "149999  Wellness Turkey Recipe is all our cat will eat...  \n"
     ]
    }
   ],
   "source": [
    "# Mostrar las últimas filas del DataFrame\n",
    "print(\"Últimas filas del DataFrame:\")\n",
    "print(df.tail())"
   ]
  },
  {
   "cell_type": "code",
   "execution_count": 5,
   "metadata": {
    "colab": {
     "base_uri": "https://localhost:8080/"
    },
    "executionInfo": {
     "elapsed": 6,
     "status": "ok",
     "timestamp": 1724930266406,
     "user": {
      "displayName": "Guillermo Lezama",
      "userId": "17067344961324283134"
     },
     "user_tz": 180
    },
    "id": "KW_T5xxtnXNY",
    "outputId": "d00fcb99-b5a3-4ad8-ade2-832bbef2a75f"
   },
   "outputs": [
    {
     "name": "stdout",
     "output_type": "stream",
     "text": [
      "\n",
      "Valores nulos en el DataFrame:\n",
      "Unnamed: 0                 0\n",
      "index                      0\n",
      "Id                         0\n",
      "ProductId                  0\n",
      "UserId                     0\n",
      "ProfileName                6\n",
      "HelpfulnessNumerator       0\n",
      "HelpfulnessDenominator     0\n",
      "Score                      0\n",
      "Time                       0\n",
      "Summary                   10\n",
      "Text                       0\n",
      "dtype: int64\n"
     ]
    }
   ],
   "source": [
    "# Verificar si hay valores nulos\n",
    "print(\"\\nValores nulos en el DataFrame:\")\n",
    "print(df.isnull().sum())"
   ]
  },
  {
   "cell_type": "code",
   "execution_count": 6,
   "metadata": {
    "colab": {
     "base_uri": "https://localhost:8080/"
    },
    "executionInfo": {
     "elapsed": 5,
     "status": "ok",
     "timestamp": 1724930266407,
     "user": {
      "displayName": "Guillermo Lezama",
      "userId": "17067344961324283134"
     },
     "user_tz": 180
    },
    "id": "ynIDA_Yg86vh",
    "outputId": "8871d6e5-b285-40c3-ac9e-f9dbadf7293b"
   },
   "outputs": [
    {
     "data": {
      "text/plain": [
       "143"
      ]
     },
     "execution_count": 6,
     "metadata": {},
     "output_type": "execute_result"
    }
   ],
   "source": [
    "len(df['Text'][0].split())"
   ]
  },
  {
   "cell_type": "code",
   "execution_count": 7,
   "metadata": {
    "executionInfo": {
     "elapsed": 2743,
     "status": "ok",
     "timestamp": 1724930269147,
     "user": {
      "displayName": "Guillermo Lezama",
      "userId": "17067344961324283134"
     },
     "user_tz": 180
    },
    "id": "n9fHTyIInd6C"
   },
   "outputs": [],
   "source": [
    "# Contar el número de palabras en cada reseña\n",
    "df['word_count'] = df['Text'].apply(lambda x: len(x.split()))"
   ]
  },
  {
   "cell_type": "code",
   "execution_count": 8,
   "metadata": {
    "colab": {
     "base_uri": "https://localhost:8080/",
     "height": 625
    },
    "executionInfo": {
     "elapsed": 19,
     "status": "ok",
     "timestamp": 1724930269148,
     "user": {
      "displayName": "Guillermo Lezama",
      "userId": "17067344961324283134"
     },
     "user_tz": 180
    },
    "id": "yrspMHub-SKa",
    "outputId": "22a16e88-7e12-4afa-f18e-3fe5b241e2fb"
   },
   "outputs": [
    {
     "data": {
      "text/html": [
       "<div>\n",
       "<style scoped>\n",
       "    .dataframe tbody tr th:only-of-type {\n",
       "        vertical-align: middle;\n",
       "    }\n",
       "\n",
       "    .dataframe tbody tr th {\n",
       "        vertical-align: top;\n",
       "    }\n",
       "\n",
       "    .dataframe thead th {\n",
       "        text-align: right;\n",
       "    }\n",
       "</style>\n",
       "<table border=\"1\" class=\"dataframe\">\n",
       "  <thead>\n",
       "    <tr style=\"text-align: right;\">\n",
       "      <th></th>\n",
       "      <th>Unnamed: 0</th>\n",
       "      <th>index</th>\n",
       "      <th>Id</th>\n",
       "      <th>ProductId</th>\n",
       "      <th>UserId</th>\n",
       "      <th>ProfileName</th>\n",
       "      <th>HelpfulnessNumerator</th>\n",
       "      <th>HelpfulnessDenominator</th>\n",
       "      <th>Score</th>\n",
       "      <th>Time</th>\n",
       "      <th>Summary</th>\n",
       "      <th>Text</th>\n",
       "      <th>word_count</th>\n",
       "    </tr>\n",
       "  </thead>\n",
       "  <tbody>\n",
       "    <tr>\n",
       "      <th>0</th>\n",
       "      <td>0</td>\n",
       "      <td>199320</td>\n",
       "      <td>199321</td>\n",
       "      <td>B004O5Y59O</td>\n",
       "      <td>A3BFDEBT5IV4UN</td>\n",
       "      <td>Groucho</td>\n",
       "      <td>4</td>\n",
       "      <td>4</td>\n",
       "      <td>5</td>\n",
       "      <td>1319760000</td>\n",
       "      <td>Wonderful</td>\n",
       "      <td>This has to be the best 'at home' espresso I h...</td>\n",
       "      <td>143</td>\n",
       "    </tr>\n",
       "    <tr>\n",
       "      <th>1</th>\n",
       "      <td>1</td>\n",
       "      <td>500849</td>\n",
       "      <td>500850</td>\n",
       "      <td>B002TN49F8</td>\n",
       "      <td>A3PJZ8TU8FDQ1K</td>\n",
       "      <td>Jared Castle</td>\n",
       "      <td>0</td>\n",
       "      <td>0</td>\n",
       "      <td>4</td>\n",
       "      <td>1284422400</td>\n",
       "      <td>Melitta provides rich flavor at a great value</td>\n",
       "      <td>Half the price of Starbucks, Melitta offers gr...</td>\n",
       "      <td>197</td>\n",
       "    </tr>\n",
       "    <tr>\n",
       "      <th>2</th>\n",
       "      <td>2</td>\n",
       "      <td>91889</td>\n",
       "      <td>91890</td>\n",
       "      <td>B004YV80O4</td>\n",
       "      <td>AKE6DXEN3GWPC</td>\n",
       "      <td>Cyndi Beane Henry \"Texicanwife\"</td>\n",
       "      <td>2</td>\n",
       "      <td>3</td>\n",
       "      <td>5</td>\n",
       "      <td>1312588800</td>\n",
       "      <td>Never Let Your Pantry Be Without This!</td>\n",
       "      <td>As an Amazon Vine participant, I often get to ...</td>\n",
       "      <td>131</td>\n",
       "    </tr>\n",
       "    <tr>\n",
       "      <th>3</th>\n",
       "      <td>3</td>\n",
       "      <td>456313</td>\n",
       "      <td>456314</td>\n",
       "      <td>B005E5IMII</td>\n",
       "      <td>A3X1WP7M9ICAA</td>\n",
       "      <td>ladysiren</td>\n",
       "      <td>0</td>\n",
       "      <td>0</td>\n",
       "      <td>4</td>\n",
       "      <td>1350345600</td>\n",
       "      <td>Hoop Cheese</td>\n",
       "      <td>The Hoop Cheese made it all the way to Afghani...</td>\n",
       "      <td>28</td>\n",
       "    </tr>\n",
       "    <tr>\n",
       "      <th>4</th>\n",
       "      <td>4</td>\n",
       "      <td>414758</td>\n",
       "      <td>414759</td>\n",
       "      <td>B005VOOLXM</td>\n",
       "      <td>A3DH53FPYSP9E</td>\n",
       "      <td>Media Man</td>\n",
       "      <td>1</td>\n",
       "      <td>2</td>\n",
       "      <td>3</td>\n",
       "      <td>1334620800</td>\n",
       "      <td>Unique flavors,  mediocre taste</td>\n",
       "      <td>We're a 2-3 cup a day coffee household.  This ...</td>\n",
       "      <td>305</td>\n",
       "    </tr>\n",
       "  </tbody>\n",
       "</table>\n",
       "</div>"
      ],
      "text/plain": [
       "   Unnamed: 0   index      Id   ProductId          UserId  \\\n",
       "0           0  199320  199321  B004O5Y59O  A3BFDEBT5IV4UN   \n",
       "1           1  500849  500850  B002TN49F8  A3PJZ8TU8FDQ1K   \n",
       "2           2   91889   91890  B004YV80O4   AKE6DXEN3GWPC   \n",
       "3           3  456313  456314  B005E5IMII   A3X1WP7M9ICAA   \n",
       "4           4  414758  414759  B005VOOLXM   A3DH53FPYSP9E   \n",
       "\n",
       "                       ProfileName  HelpfulnessNumerator  \\\n",
       "0                          Groucho                     4   \n",
       "1                     Jared Castle                     0   \n",
       "2  Cyndi Beane Henry \"Texicanwife\"                     2   \n",
       "3                        ladysiren                     0   \n",
       "4                        Media Man                     1   \n",
       "\n",
       "   HelpfulnessDenominator  Score        Time  \\\n",
       "0                       4      5  1319760000   \n",
       "1                       0      4  1284422400   \n",
       "2                       3      5  1312588800   \n",
       "3                       0      4  1350345600   \n",
       "4                       2      3  1334620800   \n",
       "\n",
       "                                         Summary  \\\n",
       "0                                      Wonderful   \n",
       "1  Melitta provides rich flavor at a great value   \n",
       "2         Never Let Your Pantry Be Without This!   \n",
       "3                                    Hoop Cheese   \n",
       "4                Unique flavors,  mediocre taste   \n",
       "\n",
       "                                                Text  word_count  \n",
       "0  This has to be the best 'at home' espresso I h...         143  \n",
       "1  Half the price of Starbucks, Melitta offers gr...         197  \n",
       "2  As an Amazon Vine participant, I often get to ...         131  \n",
       "3  The Hoop Cheese made it all the way to Afghani...          28  \n",
       "4  We're a 2-3 cup a day coffee household.  This ...         305  "
      ]
     },
     "execution_count": 8,
     "metadata": {},
     "output_type": "execute_result"
    }
   ],
   "source": [
    "df.head()"
   ]
  },
  {
   "cell_type": "code",
   "execution_count": 9,
   "metadata": {
    "colab": {
     "base_uri": "https://localhost:8080/"
    },
    "executionInfo": {
     "elapsed": 16,
     "status": "ok",
     "timestamp": 1724930269148,
     "user": {
      "displayName": "Guillermo Lezama",
      "userId": "17067344961324283134"
     },
     "user_tz": 180
    },
    "id": "r49iEovJnfn6",
    "outputId": "68f7083e-3771-4a54-842c-da16f08ddd5e"
   },
   "outputs": [
    {
     "name": "stdout",
     "output_type": "stream",
     "text": [
      "\n",
      "Estadísticas descriptivas de la cantidad de palabras en cada reseña:\n",
      "count    150000.000000\n",
      "mean         80.432500\n",
      "std          80.463062\n",
      "min           3.000000\n",
      "25%          33.000000\n",
      "50%          56.000000\n",
      "75%          98.000000\n",
      "max        3432.000000\n",
      "Name: word_count, dtype: float64\n"
     ]
    }
   ],
   "source": [
    "# Mostrar estadísticas descriptivas de la cantidad de palabras en cada reseña\n",
    "print(\"\\nEstadísticas descriptivas de la cantidad de palabras en cada reseña:\")\n",
    "print(df['word_count'].describe())"
   ]
  },
  {
   "cell_type": "code",
   "execution_count": 10,
   "metadata": {
    "colab": {
     "base_uri": "https://localhost:8080/"
    },
    "executionInfo": {
     "elapsed": 15,
     "status": "ok",
     "timestamp": 1724930269149,
     "user": {
      "displayName": "Guillermo Lezama",
      "userId": "17067344961324283134"
     },
     "user_tz": 180
    },
    "id": "nyqrxjMX-2hW",
    "outputId": "ec1f96f0-67d4-471b-db6c-bd26bfd0b5ce"
   },
   "outputs": [
    {
     "name": "stderr",
     "output_type": "stream",
     "text": [
      "[nltk_data] Downloading package stopwords to\n",
      "[nltk_data]     C:\\Users\\guill\\AppData\\Roaming\\nltk_data...\n",
      "[nltk_data]   Package stopwords is already up-to-date!\n",
      "[nltk_data] Downloading package punkt to\n",
      "[nltk_data]     C:\\Users\\guill\\AppData\\Roaming\\nltk_data...\n",
      "[nltk_data]   Package punkt is already up-to-date!\n"
     ]
    },
    {
     "data": {
      "text/plain": [
       "True"
      ]
     },
     "execution_count": 10,
     "metadata": {},
     "output_type": "execute_result"
    }
   ],
   "source": [
    "# Descargar stop words si no están ya descargadas\n",
    "nltk.download('stopwords')\n",
    "nltk.download('punkt')"
   ]
  },
  {
   "cell_type": "code",
   "execution_count": 11,
   "metadata": {
    "colab": {
     "base_uri": "https://localhost:8080/"
    },
    "executionInfo": {
     "elapsed": 13,
     "status": "ok",
     "timestamp": 1724930269149,
     "user": {
      "displayName": "Guillermo Lezama",
      "userId": "17067344961324283134"
     },
     "user_tz": 180
    },
    "id": "A-_WrWiH_dCk",
    "outputId": "5334eceb-bbad-437b-9ad5-2eaf30ae9c52"
   },
   "outputs": [
    {
     "data": {
      "text/plain": [
       "['this',\n",
       " 'has',\n",
       " 'to',\n",
       " 'be',\n",
       " 'the',\n",
       " 'best',\n",
       " \"'at\",\n",
       " 'home',\n",
       " \"'\",\n",
       " 'espresso',\n",
       " 'i',\n",
       " 'have',\n",
       " 'ever',\n",
       " 'had',\n",
       " '.',\n",
       " 'i',\n",
       " 'love',\n",
       " 'a',\n",
       " 'very',\n",
       " 'strong',\n",
       " 'cup',\n",
       " 'of',\n",
       " 'coffee',\n",
       " ',',\n",
       " 'and',\n",
       " 'whenever',\n",
       " 'i',\n",
       " 'go',\n",
       " 'to',\n",
       " 'that',\n",
       " 'chain',\n",
       " 'place',\n",
       " ',',\n",
       " 'you',\n",
       " 'know',\n",
       " 'the',\n",
       " 'one',\n",
       " 'i',\n",
       " \"'m\",\n",
       " 'talking',\n",
       " 'about',\n",
       " ',',\n",
       " 'for',\n",
       " 'coffee',\n",
       " 'i',\n",
       " 'get',\n",
       " 'a',\n",
       " 'regular',\n",
       " 'coffee',\n",
       " 'with',\n",
       " 'a',\n",
       " 'shot',\n",
       " 'of',\n",
       " 'espresso',\n",
       " '(',\n",
       " 'red-eye',\n",
       " '?',\n",
       " ')',\n",
       " '.',\n",
       " 'it',\n",
       " 'costs',\n",
       " 'me',\n",
       " 'an',\n",
       " 'arm',\n",
       " 'and',\n",
       " 'a',\n",
       " 'leg',\n",
       " 'too',\n",
       " '!',\n",
       " 'now',\n",
       " 'i',\n",
       " 'can',\n",
       " 'do',\n",
       " 'it',\n",
       " 'at',\n",
       " 'home.',\n",
       " '<',\n",
       " 'br',\n",
       " '/',\n",
       " '>',\n",
       " '<',\n",
       " 'br',\n",
       " '/',\n",
       " '>',\n",
       " 'bold',\n",
       " ',',\n",
       " 'rich',\n",
       " ',',\n",
       " 'aromatic',\n",
       " 'and',\n",
       " 'it',\n",
       " 'tastes',\n",
       " 'less',\n",
       " 'acid-y',\n",
       " 'than',\n",
       " 'the',\n",
       " 'other',\n",
       " 'espressos',\n",
       " 'that',\n",
       " 'i',\n",
       " \"'ve\",\n",
       " 'tried',\n",
       " '...',\n",
       " 'this',\n",
       " 'was',\n",
       " 'an',\n",
       " 'absolute',\n",
       " 'pleasure',\n",
       " 'to',\n",
       " 'drink',\n",
       " '.',\n",
       " 'i',\n",
       " 'do',\n",
       " \"n't\",\n",
       " 'even',\n",
       " 'bother',\n",
       " 'with',\n",
       " 'the',\n",
       " 'frother',\n",
       " 'to',\n",
       " 'top',\n",
       " 'my',\n",
       " 'coffee',\n",
       " ',',\n",
       " 'because',\n",
       " 'the',\n",
       " 'espresso',\n",
       " 'has',\n",
       " 'just',\n",
       " 'enough',\n",
       " 'crema',\n",
       " 'on',\n",
       " 'top',\n",
       " 'to',\n",
       " 'make',\n",
       " 'this',\n",
       " 'an',\n",
       " 'even',\n",
       " 'richer',\n",
       " 'drink.',\n",
       " '<',\n",
       " 'br',\n",
       " '/',\n",
       " '>',\n",
       " 'yum.',\n",
       " '<',\n",
       " 'br',\n",
       " '/',\n",
       " '>',\n",
       " '<',\n",
       " 'br',\n",
       " '/',\n",
       " '>',\n",
       " 'and',\n",
       " 'if',\n",
       " 'you',\n",
       " 'use',\n",
       " 'the',\n",
       " 'subscription',\n",
       " 'service',\n",
       " 'like',\n",
       " 'i',\n",
       " 'did',\n",
       " ',',\n",
       " 'you',\n",
       " 'can',\n",
       " 'save',\n",
       " 'yourself',\n",
       " 'at',\n",
       " 'least',\n",
       " '15',\n",
       " '%',\n",
       " 'and',\n",
       " 'never',\n",
       " 'have',\n",
       " 'to',\n",
       " 'worry',\n",
       " 'about',\n",
       " 'remembering',\n",
       " 'to',\n",
       " 're-order',\n",
       " 'again',\n",
       " '!']"
      ]
     },
     "execution_count": 11,
     "metadata": {},
     "output_type": "execute_result"
    }
   ],
   "source": [
    "word_tokenize(df['Text'][0].lower())"
   ]
  },
  {
   "cell_type": "code",
   "execution_count": 12,
   "metadata": {
    "colab": {
     "base_uri": "https://localhost:8080/"
    },
    "executionInfo": {
     "elapsed": 11,
     "status": "ok",
     "timestamp": 1724930269149,
     "user": {
      "displayName": "Guillermo Lezama",
      "userId": "17067344961324283134"
     },
     "user_tz": 180
    },
    "id": "dCchTZMeAY_i",
    "outputId": "743240c2-80b5-4744-f909-c54caf580a4d"
   },
   "outputs": [
    {
     "name": "stdout",
     "output_type": "stream",
     "text": [
      "[1, 2, 3, 4, 5, 6, 7, 8, 9, 10]\n",
      "[1, 2, 3, 4, 5, 6, 7, 8, 9, 10]\n",
      "[1, 2, 3, 4, 5, 6, 7, 8, 9, 10]\n"
     ]
    }
   ],
   "source": [
    "# List Comprehension\n",
    "print([1,2,3,4,5,6,7,8,9,10])\n",
    "print([x for x in range(1,11)])\n",
    "lista=[]\n",
    "for i in range(1,11):\n",
    "  lista=lista + [i]\n",
    "print(lista)"
   ]
  },
  {
   "cell_type": "code",
   "execution_count": null,
   "metadata": {
    "colab": {
     "base_uri": "https://localhost:8080/"
    },
    "executionInfo": {
     "elapsed": 183749,
     "status": "ok",
     "timestamp": 1724930452890,
     "user": {
      "displayName": "Guillermo Lezama",
      "userId": "17067344961324283134"
     },
     "user_tz": 180
    },
    "id": "egJr4tg0xnDa",
    "outputId": "88f485db-fd2e-4a14-c52e-237cec6e1db9"
   },
   "outputs": [],
   "source": [
    "# Limpiar texto: eliminar stop words y puntuación\n",
    "def clean_text(text):\n",
    "    stop_words = set(stopwords.words('english'))\n",
    "    text = re.sub(r'<br\\s*/?>', ' ', text)  # Reemplazar <br> o <br /> por un espacio\n",
    "    text = re.sub(r'<.*?>', '', text)  # Eliminar cualquier otra etiqueta HTML\n",
    "    tokens = word_tokenize(text.lower())\n",
    "    cleaned_tokens = [word for word in tokens if word.isalpha() and word not in stop_words]\n",
    "    # palabra para todas las palabras en la lista de tokens, si la palabra es alfanumerica y la palabra no forma parte de la lista de stopwords\n",
    "    return ' '.join(cleaned_tokens)\n",
    "\n",
    "# Aplicar limpieza al texto\n",
    "df['cleaned_text'] = df['Text'].apply(clean_text)\n",
    "\n",
    "# Contar el número de palabras en cada reseña\n",
    "df['word_count_clean'] = df['cleaned_text'].apply(lambda x: len(x.split()))\n",
    "\n",
    "# Mostrar estadísticas descriptivas de la cantidad de palabras en cada reseña\n",
    "print(\"\\nEstadísticas descriptivas de la cantidad de palabras en cada reseña:\")\n",
    "print(df['word_count_clean'].describe())"
   ]
  },
  {
   "cell_type": "markdown",
   "metadata": {
    "id": "Op5q1CqYDF4K"
   },
   "source": [
    "'cleaned_text' es la columna con el texto limpiado de stopwords, signos de puntuacion y codigo html. Al hacer eso, en promedio, el numero de palabras cae mitad."
   ]
  },
  {
   "cell_type": "code",
   "execution_count": null,
   "metadata": {
    "colab": {
     "base_uri": "https://localhost:8080/"
    },
    "executionInfo": {
     "elapsed": 13,
     "status": "ok",
     "timestamp": 1724930452890,
     "user": {
      "displayName": "Guillermo Lezama",
      "userId": "17067344961324283134"
     },
     "user_tz": 180
    },
    "id": "lDUW2CdLCgii",
    "outputId": "2b349348-123c-478a-eb58-ff156a26b1d5"
   },
   "outputs": [],
   "source": [
    "print(df['Text'][0])"
   ]
  },
  {
   "cell_type": "code",
   "execution_count": null,
   "metadata": {
    "colab": {
     "base_uri": "https://localhost:8080/"
    },
    "executionInfo": {
     "elapsed": 11,
     "status": "ok",
     "timestamp": 1724930452890,
     "user": {
      "displayName": "Guillermo Lezama",
      "userId": "17067344961324283134"
     },
     "user_tz": 180
    },
    "id": "Ro1pSnsrClno",
    "outputId": "4aa522a5-e748-46b0-886d-496c738015ac"
   },
   "outputs": [],
   "source": [
    "print(df['cleaned_text'][0])"
   ]
  },
  {
   "cell_type": "code",
   "execution_count": null,
   "metadata": {
    "colab": {
     "base_uri": "https://localhost:8080/"
    },
    "executionInfo": {
     "elapsed": 9,
     "status": "ok",
     "timestamp": 1724930452890,
     "user": {
      "displayName": "Guillermo Lezama",
      "userId": "17067344961324283134"
     },
     "user_tz": 180
    },
    "id": "-CgOKF82nhIn",
    "outputId": "abd1a372-9750-4dc3-91d6-b0af3f15f0e8"
   },
   "outputs": [],
   "source": [
    "# Mostrar la reseña con mayor y menor cantidad de palabras\n",
    "longest_review = df.loc[df['word_count'].idxmax()]\n",
    "shortest_review = df.loc[df['word_count'].idxmin()]\n",
    "\n",
    "print(f\"\\nResumen de reseña más larga: {longest_review['Summary']} con {longest_review['word_count']} palabras.\")\n",
    "print(f\"Resumen de reseña más corta: {shortest_review['Summary']} con {shortest_review['word_count']} palabras.\")\n"
   ]
  },
  {
   "cell_type": "code",
   "execution_count": null,
   "metadata": {
    "colab": {
     "base_uri": "https://localhost:8080/"
    },
    "executionInfo": {
     "elapsed": 9,
     "status": "ok",
     "timestamp": 1724930452891,
     "user": {
      "displayName": "Guillermo Lezama",
      "userId": "17067344961324283134"
     },
     "user_tz": 180
    },
    "id": "2A4R1FnGsRwR",
    "outputId": "aa469abb-b951-487a-c21a-034542444567"
   },
   "outputs": [],
   "source": [
    "print(f\"\\nReseña más larga: {longest_review['Text']} con {longest_review['word_count']} palabras.\")\n",
    "print(f\"Reseña más corta: {shortest_review['Text']} con {shortest_review['word_count']} palabras.\")"
   ]
  },
  {
   "cell_type": "code",
   "execution_count": null,
   "metadata": {
    "colab": {
     "base_uri": "https://localhost:8080/",
     "height": 272
    },
    "executionInfo": {
     "elapsed": 7,
     "status": "ok",
     "timestamp": 1724930452891,
     "user": {
      "displayName": "Guillermo Lezama",
      "userId": "17067344961324283134"
     },
     "user_tz": 180
    },
    "id": "X4qBVO4knk_L",
    "outputId": "683cdbd0-5c9c-4a2a-d5b6-71b25545bf78"
   },
   "outputs": [],
   "source": [
    "# distribución de las calificaciones de las reseñas\n",
    "df['Score'].value_counts()/len(df)"
   ]
  },
  {
   "cell_type": "markdown",
   "metadata": {
    "id": "KFIIvfgslX4T"
   },
   "source": [
    "Aquí terminamos el Miércoles. Veamos ahora\n",
    "* Cómo se relaciona el score con el largo de la review\n",
    "* Ver palabras frecuentes para reseñas positivas y negativas"
   ]
  },
  {
   "cell_type": "code",
   "execution_count": null,
   "metadata": {
    "colab": {
     "base_uri": "https://localhost:8080/",
     "height": 507
    },
    "executionInfo": {
     "elapsed": 3035,
     "status": "ok",
     "timestamp": 1724930540942,
     "user": {
      "displayName": "Guillermo Lezama",
      "userId": "17067344961324283134"
     },
     "user_tz": 180
    },
    "id": "tWUzQiZ-3TAg",
    "outputId": "a19c3d59-ae83-4268-93f7-e341f77068da"
   },
   "outputs": [],
   "source": [
    "# Comparar la distribución de el largo de la review por Score\n",
    "print(\"\\nComparando la distribución del largo de la review por Score:\")\n",
    "sns.violinplot(x='Score', y='word_count', data=df)\n",
    "plt.title('Distribución de word count por Score')\n",
    "plt.show()"
   ]
  },
  {
   "cell_type": "code",
   "execution_count": null,
   "metadata": {
    "colab": {
     "base_uri": "https://localhost:8080/",
     "height": 472
    },
    "executionInfo": {
     "elapsed": 1677,
     "status": "ok",
     "timestamp": 1724930777961,
     "user": {
      "displayName": "Guillermo Lezama",
      "userId": "17067344961324283134"
     },
     "user_tz": 180
    },
    "id": "m002a3LA4Wny",
    "outputId": "771e1221-fea9-4b7b-c121-79b6ef2b8dc2"
   },
   "outputs": [],
   "source": [
    "sns.boxplot(data=df, x=\"Score\", y=\"word_count\")\n",
    "plt.title('Distribución de word count por Score')\n",
    "plt.show()\n"
   ]
  },
  {
   "cell_type": "markdown",
   "metadata": {
    "id": "DIyIMt0B49by"
   },
   "source": [
    "La distribución del word count es muy parecida por puntuacion.\n",
    "\n",
    "Podríamos hacer es un test ANOVA para ver si las medias son iguales."
   ]
  },
  {
   "cell_type": "code",
   "execution_count": null,
   "metadata": {
    "executionInfo": {
     "elapsed": 470,
     "status": "ok",
     "timestamp": 1724931017856,
     "user": {
      "displayName": "Guillermo Lezama",
      "userId": "17067344961324283134"
     },
     "user_tz": 180
    },
    "id": "3R1BlCMH5nZU"
   },
   "outputs": [],
   "source": [
    "from scipy.stats import  f_oneway"
   ]
  },
  {
   "cell_type": "code",
   "execution_count": null,
   "metadata": {
    "colab": {
     "base_uri": "https://localhost:8080/"
    },
    "executionInfo": {
     "elapsed": 362,
     "status": "ok",
     "timestamp": 1724931018559,
     "user": {
      "displayName": "Guillermo Lezama",
      "userId": "17067344961324283134"
     },
     "user_tz": 180
    },
    "id": "Rnlgn-Rj5Kmg",
    "outputId": "f802e0cb-25ae-445c-e509-d0dbbb8d7e8e"
   },
   "outputs": [],
   "source": [
    "# Aplicar ANOVA para comparar el word count entre las diferentes scores\n",
    "anova_result = f_oneway(df[df['Score'] == 1]['word_count'].dropna(),\n",
    "                        df[df['Score'] == 2]['word_count'].dropna(),\n",
    "                        df[df['Score'] == 3]['word_count'].dropna(),\n",
    "                        df[df['Score'] == 4]['word_count'].dropna(),\n",
    "                        df[df['Score'] == 5]['word_count'].dropna())\n",
    "\n",
    "print(f\"ANOVA para word count y Score: F-stat={anova_result.statistic}, p-value={anova_result.pvalue}\")\n"
   ]
  },
  {
   "cell_type": "code",
   "execution_count": null,
   "metadata": {
    "colab": {
     "base_uri": "https://localhost:8080/"
    },
    "executionInfo": {
     "elapsed": 484,
     "status": "ok",
     "timestamp": 1724931092074,
     "user": {
      "displayName": "Guillermo Lezama",
      "userId": "17067344961324283134"
     },
     "user_tz": 180
    },
    "id": "A8O26YDd5tUX",
    "outputId": "a7eb4219-8cc0-4a33-e6fe-8b017823608a"
   },
   "outputs": [],
   "source": [
    "# Computando medias para cada score\n",
    "print(np.mean(df[df['Score'] == 1]['word_count']))\n",
    "print(np.mean(df[df['Score'] == 2]['word_count']))\n",
    "print(np.mean(df[df['Score'] == 3]['word_count']))\n",
    "print(np.mean(df[df['Score'] == 4]['word_count']))\n",
    "print(np.mean(df[df['Score'] == 5]['word_count']))\n"
   ]
  },
  {
   "cell_type": "markdown",
   "metadata": {
    "id": "YUAEjf9j6GQU"
   },
   "source": [
    "La media de conteo de palabras es distinta entre los distintos scores (testeado con un ANOVA). Para un score de 5, la media es mas baja. Pero no observamos otras grandes diferencias con el box plot o el violin plot."
   ]
  },
  {
   "cell_type": "code",
   "execution_count": null,
   "metadata": {
    "executionInfo": {
     "elapsed": 358,
     "status": "ok",
     "timestamp": 1724931607614,
     "user": {
      "displayName": "Guillermo Lezama",
      "userId": "17067344961324283134"
     },
     "user_tz": 180
    },
    "id": "Hj1e1nwpnnPB"
   },
   "outputs": [],
   "source": [
    "# Separar reseñas positivas y negativas\n",
    "positive_reviews = df[df['Score'] == 5]['cleaned_text']\n",
    "negative_reviews = df[df['Score'] == 1]['cleaned_text']\n",
    "\n",
    "# Generar Word Clouds\n",
    "positive_text = ' '.join(positive_reviews)\n",
    "negative_text = ' '.join(negative_reviews)"
   ]
  },
  {
   "cell_type": "code",
   "execution_count": null,
   "metadata": {
    "colab": {
     "background_save": true,
     "base_uri": "https://localhost:8080/",
     "output_embedded_package_id": "1s3TO68s2h-Hgr_0uQV_PQKhUCDKr8Xlm"
    },
    "executionInfo": {
     "elapsed": 1028,
     "status": "ok",
     "timestamp": 1724931690897,
     "user": {
      "displayName": "Guillermo Lezama",
      "userId": "17067344961324283134"
     },
     "user_tz": 180
    },
    "id": "aO3jodyj75PJ",
    "outputId": "605fd5e7-ff38-40a8-b9d6-358514a916f6"
   },
   "outputs": [],
   "source": [
    "len(positive_text)"
   ]
  },
  {
   "cell_type": "code",
   "execution_count": null,
   "metadata": {
    "id": "1da_JvL9yMYA"
   },
   "outputs": [],
   "source": [
    "# Word Cloud para Reseñas Positivas\n",
    "positive_wordcloud = WordCloud(width=800, height=400, background_color='white').generate(positive_text)\n",
    "plt.figure(figsize=(10, 5))\n",
    "plt.imshow(positive_wordcloud, interpolation='bilinear')\n",
    "plt.axis('off')\n",
    "plt.title('Word Cloud de Reseñas Positivas')\n",
    "plt.show()\n"
   ]
  },
  {
   "cell_type": "code",
   "execution_count": null,
   "metadata": {
    "id": "RwmN_tCnnpt8"
   },
   "outputs": [],
   "source": [
    "# Word Cloud para Reseñas Negativas\n",
    "negative_wordcloud = WordCloud(width=800, height=400, background_color='white', colormap='inferno').generate(negative_text)\n",
    "plt.figure(figsize=(10, 5))\n",
    "plt.imshow(negative_wordcloud, interpolation='bilinear')\n",
    "plt.axis('off')\n",
    "plt.title('Word Cloud de Reseñas Negativas')\n",
    "plt.show()"
   ]
  },
  {
   "cell_type": "code",
   "execution_count": null,
   "metadata": {
    "id": "gt9u7WhPnsUC"
   },
   "outputs": [],
   "source": [
    "# Combinar todas las reseñas en un solo texto\n",
    "all_reviews = ' '.join(df['cleaned_text'])\n",
    "\n",
    "# Contar la frecuencia de cada palabra\n",
    "word_freq = Counter(all_reviews.split())\n",
    "\n",
    "# Mostrar las 10 palabras más comunes\n",
    "print(\"\\nLas 10 palabras más comunes en todas las reseñas:\")\n",
    "print(word_freq.most_common(10))\n"
   ]
  },
  {
   "cell_type": "markdown",
   "metadata": {
    "id": "5gSYL9DuloSH"
   },
   "source": [
    "¿Cuál es el problema? Recordemos que nosotros queremos saber qué palabras predicen una mala puntuación."
   ]
  },
  {
   "cell_type": "code",
   "execution_count": null,
   "metadata": {
    "id": "FuaKD4Ubngoa"
   },
   "outputs": [],
   "source": [
    "from sklearn.feature_extraction.text import CountVectorizer, TfidfVectorizer"
   ]
  },
  {
   "cell_type": "code",
   "execution_count": null,
   "metadata": {
    "id": "CouUNV8w1ja3"
   },
   "outputs": [],
   "source": [
    "# Usar TF-IDF para identificar palabras importantes en las reseñas\n",
    "tfidf = TfidfVectorizer(stop_words='english', max_features=100)\n",
    "tfidf_matrix = tfidf.fit_transform(df['Text'])"
   ]
  },
  {
   "cell_type": "code",
   "execution_count": null,
   "metadata": {
    "id": "MWZVsgdtmHEA"
   },
   "outputs": [],
   "source": [
    "# Obtener los nombres de las características\n",
    "feature_names = tfidf.get_feature_names_out()\n",
    "\n",
    "# Convertir la matriz TF-IDF en un DataFrame\n",
    "tfidf_df = pd.DataFrame(tfidf_matrix.toarray(), columns=feature_names)"
   ]
  },
  {
   "cell_type": "code",
   "execution_count": null,
   "metadata": {
    "id": "XMbu4UpMntSK"
   },
   "outputs": [],
   "source": [
    "feature_names"
   ]
  },
  {
   "cell_type": "code",
   "execution_count": null,
   "metadata": {
    "id": "k2shq6yDmLPq"
   },
   "outputs": [],
   "source": [
    "# Mostrar las 10 palabras con mayor puntuación TF-IDF en la primera reseña\n",
    "print(\"\\nTop 10 palabras con mayor puntuación TF-IDF en la primera reseña:\")\n",
    "print(tfidf_df.iloc[0].sort_values(ascending=False).head(10))"
   ]
  },
  {
   "cell_type": "code",
   "execution_count": null,
   "metadata": {
    "id": "9AryIM-Oofso"
   },
   "outputs": [],
   "source": [
    "from sklearn.cluster import KMeans"
   ]
  },
  {
   "cell_type": "code",
   "execution_count": null,
   "metadata": {
    "id": "RnHBVXgtoZHc"
   },
   "outputs": [],
   "source": [
    "# Realizar clustering KMeans sobre la matriz TF-IDF\n",
    "kmeans = KMeans(n_clusters=3, random_state=42)\n",
    "kmeans.fit(tfidf_matrix)\n",
    "df['Cluster'] = kmeans.labels_\n",
    "\n",
    "df['Cluster'].value_counts()"
   ]
  },
  {
   "cell_type": "code",
   "execution_count": null,
   "metadata": {
    "id": "_t3GdKjkob_r"
   },
   "outputs": [],
   "source": [
    "# Dato Curioso: Mostrar las palabras más comunes en cada cluster\n",
    "for i in range(3):\n",
    "    cluster_reviews = df[df['Cluster'] == i]['Text']\n",
    "    cluster_words = ' '.join(cluster_reviews)\n",
    "    cluster_wordcloud = WordCloud(width=800, height=400, background_color='white').generate(cluster_words)\n",
    "    plt.figure(figsize=(10, 5))\n",
    "    plt.imshow(cluster_wordcloud, interpolation='bilinear')\n",
    "    plt.axis('off')\n",
    "    plt.title(f'Word Cloud del Cluster {i}')\n",
    "    plt.show()\n"
   ]
  },
  {
   "cell_type": "markdown",
   "metadata": {
    "id": "Vy0htIcspry-"
   },
   "source": []
  }
 ],
 "metadata": {
  "colab": {
   "authorship_tag": "ABX9TyO/xVnJTobBwHoPu2cXDgr5",
   "name": "",
   "version": ""
  },
  "kernelspec": {
   "display_name": "Python 3 (ipykernel)",
   "language": "python",
   "name": "python3"
  },
  "language_info": {
   "codemirror_mode": {
    "name": "ipython",
    "version": 3
   },
   "file_extension": ".py",
   "mimetype": "text/x-python",
   "name": "python",
   "nbconvert_exporter": "python",
   "pygments_lexer": "ipython3",
   "version": "3.11.3"
  }
 },
 "nbformat": 4,
 "nbformat_minor": 1
}
