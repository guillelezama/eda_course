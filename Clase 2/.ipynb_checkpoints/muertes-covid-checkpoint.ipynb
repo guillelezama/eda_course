{
 "cells": [
  {
   "cell_type": "code",
   "execution_count": null,
   "metadata": {
    "id": "Mcdp9HYcxuOZ"
   },
   "outputs": [],
   "source": [
    "import numpy as np\n",
    "import pandas as pd"
   ]
  },
  {
   "cell_type": "markdown",
   "metadata": {
    "id": "22UiDYlI3PS0"
   },
   "source": [
    "Repetir los primeros pasos realizados ayer para el dataset alojado aquí:\n",
    "\n",
    "https://raw.githubusercontent.com/owid/covid-19-data/master/public/data/cases_deaths/new_deaths.csv\n",
    "\n",
    "source: Our World in Data (https://ourworldindata.org/coronavirus-source-data)\n",
    "\n",
    "Este es un dataset sobre nuevos casos muertes por covid. Tres preguntas para guiar el análisis (*Ustedes pueden pensar otras preguntas.*)\n",
    "1. Supongamos que queremos saber cómo Uruguay se desempeñó en el mundo en términos de muertes por COVID?\n",
    "2. Analizar cómo Uruguay se desempeñó en su peor momento vs. el peor momento de otros países.\n",
    "3. Si hay distintos patrones de desempeño en la evolución de muertes.\n",
    "\n",
    "En este ejercicio, no vamos a intentar responder las preguntas, pero si tratar de conocer el dataset. Para eso podemos comparar con Argentina.\n",
    "\n",
    "Un sketch de las respuestas están aquí: https://colab.research.google.com/drive/1yDNfYX21808qggT34vIj_vVYfiYgsp2E?usp=sharing"
   ]
  },
  {
   "cell_type": "code",
   "execution_count": null,
   "metadata": {
    "id": "V-SopqHh4bRM"
   },
   "outputs": [],
   "source": [
    "# 2. Leer la Data\n",
    "df = pd.read_csv('https://raw.githubusercontent.com/owid/covid-19-data/master/public/data/cases_deaths/new_deaths.csv', on_bad_lines='skip')"
   ]
  },
  {
   "cell_type": "code",
   "execution_count": null,
   "metadata": {},
   "outputs": [],
   "source": [
    "df.shape"
   ]
  },
  {
   "cell_type": "code",
   "execution_count": null,
   "metadata": {
    "id": "ZAMmlV664rnb"
   },
   "outputs": [],
   "source": [
    "# 3.a Número de columnas\n",
    "num_columnas = df.shape[1]\n",
    "print(f'Número de columnas: {num_columnas}')"
   ]
  },
  {
   "cell_type": "code",
   "execution_count": null,
   "metadata": {
    "id": "j2BtOsoa4t2H"
   },
   "outputs": [],
   "source": [
    "# 3.b Número de filas\n",
    "num_filas = df.shape[0]\n",
    "print(f'Número de filas: {num_filas}')"
   ]
  },
  {
   "cell_type": "code",
   "execution_count": null,
   "metadata": {
    "id": "ONZEVA5r4vgu"
   },
   "outputs": [],
   "source": [
    "# 4. Ejecutar .info() y .head()\n",
    "df.info()\n",
    "print(df.head())"
   ]
  },
  {
   "cell_type": "code",
   "execution_count": null,
   "metadata": {
    "id": "dm1ok6oO4xne"
   },
   "outputs": [],
   "source": [
    "# 5. Ver la parte superior e inferior de los datos\n",
    "print(\"Parte superior del dataset:\")\n",
    "print(df.head())\n",
    "print(\"Parte inferior del dataset:\")\n",
    "print(df.tail())"
   ]
  },
  {
   "cell_type": "code",
   "execution_count": null,
   "metadata": {
    "id": "CK5H2tzT41XT"
   },
   "outputs": [],
   "source": [
    "# 6. Verificar los n's.\n",
    "## Por ejemplo, verificar la cantidad de paises, la cantidad de filas por año, o la cantidad de observaciones por país y verificar que tenga sentido, etc.\n",
    "## Este puede ser menos necesario en este caso."
   ]
  },
  {
   "cell_type": "code",
   "execution_count": null,
   "metadata": {
    "id": "U5T7pZEC4-8l"
   },
   "outputs": [],
   "source": [
    "# Nuevo 7: Computar a) mean, b) median, c) mode, d) variance, e) sd, f) rango, g) percentiles (10, 25, 75, 90), h) rango intercuartilico para Uruguay y Argentina\n"
   ]
  },
  {
   "cell_type": "code",
   "execution_count": null,
   "metadata": {},
   "outputs": [],
   "source": [
    "# mean\n",
    "print(np.mean(df[\"Uruguay\"]),np.mean(df[\"Argentina\"]))"
   ]
  },
  {
   "cell_type": "code",
   "execution_count": null,
   "metadata": {},
   "outputs": [],
   "source": [
    "# median\n",
    "print(np.median(df[\"Uruguay\"]),np.median(df[\"Argentina\"]))"
   ]
  },
  {
   "cell_type": "code",
   "execution_count": null,
   "metadata": {},
   "outputs": [],
   "source": [
    "#moda\n",
    "from scipy import stats\n",
    "print(stats.mode(df[\"Uruguay\"]),stats.mode(df[\"Argentina\"]))\n"
   ]
  },
  {
   "cell_type": "code",
   "execution_count": null,
   "metadata": {},
   "outputs": [],
   "source": [
    "# variance\n",
    "print(np.var(df[\"Uruguay\"]),np.var(df[\"Argentina\"]))"
   ]
  },
  {
   "cell_type": "code",
   "execution_count": null,
   "metadata": {},
   "outputs": [],
   "source": [
    "# sd\n",
    "print(np.std(df[\"Uruguay\"]),np.std(df[\"Argentina\"]))"
   ]
  },
  {
   "cell_type": "code",
   "execution_count": null,
   "metadata": {},
   "outputs": [],
   "source": [
    "# rango\n",
    "print(np.max(df[\"Uruguay\"])-np.min(df[\"Uruguay\"]),np.max(df[\"Argentina\"])-np.min(df[\"Argentina\"]))"
   ]
  },
  {
   "cell_type": "code",
   "execution_count": null,
   "metadata": {},
   "outputs": [],
   "source": [
    "# IQR\n",
    "\n",
    "print(stats.iqr(df[\"Uruguay\"]), stats.iqr(df[\"Argentina\"]))"
   ]
  },
  {
   "cell_type": "code",
   "execution_count": null,
   "metadata": {},
   "outputs": [],
   "source": [
    "df[\"Uruguay\"].describe()"
   ]
  },
  {
   "cell_type": "code",
   "execution_count": null,
   "metadata": {},
   "outputs": [],
   "source": [
    "df['Uruguay'].sort_values()"
   ]
  },
  {
   "cell_type": "code",
   "execution_count": null,
   "metadata": {
    "id": "vxxgynM458O1"
   },
   "outputs": [],
   "source": [
    "# Computar a, b y g por años (2020, 2021, 2022, 2023, 2024)\n"
   ]
  },
  {
   "cell_type": "markdown",
   "metadata": {
    "id": "McKG8Ct95wGb"
   },
   "source": [
    "Pregunta para discutir:\n",
    "Que insights se pueden extraer de estas descriptivas?"
   ]
  },
  {
   "cell_type": "markdown",
   "metadata": {
    "id": "fbVohsDwby1C"
   },
   "source": [
    "## Analisis Grafico"
   ]
  },
  {
   "cell_type": "markdown",
   "metadata": {
    "id": "hR2vMRsecMbM"
   },
   "source": [
    "Para complementar las estadísticas descriptivas, podemos utilizar gráficas.\n",
    "\n",
    "Presentar:\n",
    "1. Distribución de Nuevas Muertes por País (Histograma)\n",
    "2. Evolución Temporal de Muertes en Uruguay y Argentina (Serie Temporal)\n",
    "3. Boxplot para Comparar la Distribución de Nuevas Muertes por Año\n",
    "4. Visualización de Correlación. Explorar si hay correlación entre las muertes en Uruguay y Argentina, o cómo se relacionan las muertes en diferentes países."
   ]
  },
  {
   "cell_type": "code",
   "execution_count": null,
   "metadata": {
    "id": "lr-1Y8iocHPf"
   },
   "outputs": [],
   "source": [
    "import matplotlib.pyplot as plt\n",
    "import seaborn as sns"
   ]
  },
  {
   "cell_type": "markdown",
   "metadata": {
    "id": "a6z-PiK8b9TQ"
   },
   "source": [
    "Preguntas para discutir\n",
    "1. Que insights se pueden extraer de estas descriptivas?\n",
    "2. Cuáles son las debilidades de los datos para responder nuestra pregunta?\n",
    "3. Qué otros datos podrían ayudar a nuestro análisis?\n",
    "4. Podríamos mejorar la pregunta? A la luz de los datos, cuáles son las debilidades de nuestra pregunta?\n",
    "5. No lo vamos a hacer por ahora, pero cómo intentarían responder las tres preguntas iniciales?"
   ]
  },
  {
   "cell_type": "code",
   "execution_count": null,
   "metadata": {
    "id": "b-nU5IDb7Z_Z"
   },
   "outputs": [],
   "source": []
  }
 ],
 "metadata": {
  "colab": {
   "provenance": []
  },
  "kernelspec": {
   "display_name": "Python 3 (ipykernel)",
   "language": "python",
   "name": "python3"
  },
  "language_info": {
   "codemirror_mode": {
    "name": "ipython",
    "version": 3
   },
   "file_extension": ".py",
   "mimetype": "text/x-python",
   "name": "python",
   "nbconvert_exporter": "python",
   "pygments_lexer": "ipython3",
   "version": "3.11.3"
  }
 },
 "nbformat": 4,
 "nbformat_minor": 1
}
