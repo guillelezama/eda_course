{
 "cells": [
  {
   "cell_type": "code",
   "execution_count": 1,
   "metadata": {
    "id": "Ib_U5rcZ4VLR"
   },
   "outputs": [],
   "source": [
    "import pandas as pd\n",
    "import seaborn as sns\n",
    "import matplotlib.pyplot as plt\n"
   ]
  },
  {
   "cell_type": "code",
   "execution_count": 2,
   "metadata": {
    "id": "qwD25gS0MrDT"
   },
   "outputs": [],
   "source": [
    "df= pd.read_excel('https://github.com/guillelezama/eda_course/raw/main/data/raw/titanic3.xls')"
   ]
  },
  {
   "cell_type": "markdown",
   "metadata": {
    "id": "kgnuxKzFPswi"
   },
   "source": [
    "* Pclass Passenger Class (1 = 1st; 2 = 2nd; 3 = 3rd)\n",
    "* survival Survival (0 = No; 1 = Yes)\n",
    "* name Name\n",
    "* sex Sex\n",
    "* age Age\n",
    "* sibsp Number of Siblings/Spouses Aboard\n",
    "* parch Number of Parents/Children Aboard\n",
    "* ticket Ticket Number\n",
    "* fare Passenger Fare (British pound)\n",
    "* cabin Cabin\n",
    "* embarked Port of Embarkation (C = Cherbourg; Q = Queenstown; S = Southampton)\n",
    "* boat Lifeboat\n",
    "* body Body Identification Number\n",
    "* home.dest Home/Destination"
   ]
  },
  {
   "cell_type": "markdown",
   "metadata": {
    "id": "VZVU75g2RINx"
   },
   "source": [
    "# Engels dijo: all past history was the history of class struggles, y Leonardo Di Caprio lo demostró.\n",
    "\n",
    "Analicemos si la clase en la que viajaban los pasajeros del titanic influenció su sobrevivencia."
   ]
  },
  {
   "cell_type": "code",
   "execution_count": 3,
   "metadata": {
    "colab": {
     "base_uri": "https://localhost:8080/"
    },
    "executionInfo": {
     "elapsed": 22,
     "status": "ok",
     "timestamp": 1724843832696,
     "user": {
      "displayName": "Guillermo Lezama",
      "userId": "17067344961324283134"
     },
     "user_tz": 180
    },
    "id": "WNkpghrsY9E7",
    "outputId": "714a8ca2-4dd7-493d-982d-dbcc84b83d7a"
   },
   "outputs": [
    {
     "name": "stdout",
     "output_type": "stream",
     "text": [
      "\n",
      "Forma del dataset:\n",
      "(1309, 14)\n"
     ]
    }
   ],
   "source": [
    "# Verificar la forma del dataset\n",
    "print(\"\\nForma del dataset:\")\n",
    "print(df.shape)"
   ]
  },
  {
   "cell_type": "code",
   "execution_count": 4,
   "metadata": {
    "colab": {
     "base_uri": "https://localhost:8080/"
    },
    "executionInfo": {
     "elapsed": 17,
     "status": "ok",
     "timestamp": 1724843832696,
     "user": {
      "displayName": "Guillermo Lezama",
      "userId": "17067344961324283134"
     },
     "user_tz": 180
    },
    "id": "YAaC_zXFY7BZ",
    "outputId": "789a30d0-dab8-4d9d-9177-66938150455e"
   },
   "outputs": [
    {
     "name": "stdout",
     "output_type": "stream",
     "text": [
      "\n",
      "Información del dataset:\n",
      "<class 'pandas.core.frame.DataFrame'>\n",
      "RangeIndex: 1309 entries, 0 to 1308\n",
      "Data columns (total 14 columns):\n",
      " #   Column     Non-Null Count  Dtype  \n",
      "---  ------     --------------  -----  \n",
      " 0   pclass     1309 non-null   int64  \n",
      " 1   survived   1309 non-null   int64  \n",
      " 2   name       1309 non-null   object \n",
      " 3   sex        1309 non-null   object \n",
      " 4   age        1046 non-null   float64\n",
      " 5   sibsp      1309 non-null   int64  \n",
      " 6   parch      1309 non-null   int64  \n",
      " 7   ticket     1309 non-null   object \n",
      " 8   fare       1308 non-null   float64\n",
      " 9   cabin      295 non-null    object \n",
      " 10  embarked   1307 non-null   object \n",
      " 11  boat       486 non-null    object \n",
      " 12  body       121 non-null    float64\n",
      " 13  home.dest  745 non-null    object \n",
      "dtypes: float64(3), int64(4), object(7)\n",
      "memory usage: 143.3+ KB\n",
      "None\n"
     ]
    }
   ],
   "source": [
    "# Información general del dataset\n",
    "print(\"\\nInformación del dataset:\")\n",
    "print(df.info())"
   ]
  },
  {
   "cell_type": "markdown",
   "metadata": {
    "id": "8t_ZIOX-wjzy"
   },
   "source": [
    "Hay missings!"
   ]
  },
  {
   "cell_type": "code",
   "execution_count": 5,
   "metadata": {
    "colab": {
     "base_uri": "https://localhost:8080/"
    },
    "executionInfo": {
     "elapsed": 14,
     "status": "ok",
     "timestamp": 1724843832696,
     "user": {
      "displayName": "Guillermo Lezama",
      "userId": "17067344961324283134"
     },
     "user_tz": 180
    },
    "id": "gVA5yB_H4cQw",
    "outputId": "c2f8a656-c0ed-4543-b5ae-f09e4b63929a"
   },
   "outputs": [
    {
     "name": "stdout",
     "output_type": "stream",
     "text": [
      "Primeras filas del dataset:\n",
      "   pclass  survived                                             name     sex  \\\n",
      "0       1         1                    Allen, Miss. Elisabeth Walton  female   \n",
      "1       1         1                   Allison, Master. Hudson Trevor    male   \n",
      "2       1         0                     Allison, Miss. Helen Loraine  female   \n",
      "3       1         0             Allison, Mr. Hudson Joshua Creighton    male   \n",
      "4       1         0  Allison, Mrs. Hudson J C (Bessie Waldo Daniels)  female   \n",
      "\n",
      "       age  sibsp  parch  ticket      fare    cabin embarked boat   body  \\\n",
      "0  29.0000      0      0   24160  211.3375       B5        S    2    NaN   \n",
      "1   0.9167      1      2  113781  151.5500  C22 C26        S   11    NaN   \n",
      "2   2.0000      1      2  113781  151.5500  C22 C26        S  NaN    NaN   \n",
      "3  30.0000      1      2  113781  151.5500  C22 C26        S  NaN  135.0   \n",
      "4  25.0000      1      2  113781  151.5500  C22 C26        S  NaN    NaN   \n",
      "\n",
      "                         home.dest  \n",
      "0                     St Louis, MO  \n",
      "1  Montreal, PQ / Chesterville, ON  \n",
      "2  Montreal, PQ / Chesterville, ON  \n",
      "3  Montreal, PQ / Chesterville, ON  \n",
      "4  Montreal, PQ / Chesterville, ON  \n"
     ]
    }
   ],
   "source": [
    "# Inspeccionar las primeras filas del dataset\n",
    "print(\"Primeras filas del dataset:\")\n",
    "print(df.head())"
   ]
  },
  {
   "cell_type": "code",
   "execution_count": 6,
   "metadata": {
    "colab": {
     "base_uri": "https://localhost:8080/"
    },
    "executionInfo": {
     "elapsed": 12,
     "status": "ok",
     "timestamp": 1724843832696,
     "user": {
      "displayName": "Guillermo Lezama",
      "userId": "17067344961324283134"
     },
     "user_tz": 180
    },
    "id": "VKRnI_Rt4dRe",
    "outputId": "aa415532-cabb-4bfb-8b96-66eda0f399a9"
   },
   "outputs": [
    {
     "name": "stdout",
     "output_type": "stream",
     "text": [
      "Ultimas filas del dataset:\n",
      "      pclass  survived                       name     sex   age  sibsp  parch  \\\n",
      "1304       3         0       Zabour, Miss. Hileni  female  14.5      1      0   \n",
      "1305       3         0      Zabour, Miss. Thamine  female   NaN      1      0   \n",
      "1306       3         0  Zakarian, Mr. Mapriededer    male  26.5      0      0   \n",
      "1307       3         0        Zakarian, Mr. Ortin    male  27.0      0      0   \n",
      "1308       3         0         Zimmerman, Mr. Leo    male  29.0      0      0   \n",
      "\n",
      "      ticket     fare cabin embarked boat   body home.dest  \n",
      "1304    2665  14.4542   NaN        C  NaN  328.0       NaN  \n",
      "1305    2665  14.4542   NaN        C  NaN    NaN       NaN  \n",
      "1306    2656   7.2250   NaN        C  NaN  304.0       NaN  \n",
      "1307    2670   7.2250   NaN        C  NaN    NaN       NaN  \n",
      "1308  315082   7.8750   NaN        S  NaN    NaN       NaN  \n"
     ]
    }
   ],
   "source": [
    "# Inspeccionar las primeras filas del dataset\n",
    "print(\"Ultimas filas del dataset:\")\n",
    "print(df.tail())"
   ]
  },
  {
   "cell_type": "code",
   "execution_count": 7,
   "metadata": {
    "colab": {
     "base_uri": "https://localhost:8080/"
    },
    "executionInfo": {
     "elapsed": 827,
     "status": "ok",
     "timestamp": 1724843833514,
     "user": {
      "displayName": "Guillermo Lezama",
      "userId": "17067344961324283134"
     },
     "user_tz": 180
    },
    "id": "Nz1NdI7q4ep-",
    "outputId": "426bae43-e15d-4b4f-bdf9-de1933207e64"
   },
   "outputs": [
    {
     "name": "stdout",
     "output_type": "stream",
     "text": [
      "\n",
      "Resumen estadístico:\n",
      "            pclass     survived          age        sibsp        parch  \\\n",
      "count  1309.000000  1309.000000  1046.000000  1309.000000  1309.000000   \n",
      "mean      2.294882     0.381971    29.881135     0.498854     0.385027   \n",
      "std       0.837836     0.486055    14.413500     1.041658     0.865560   \n",
      "min       1.000000     0.000000     0.166700     0.000000     0.000000   \n",
      "25%       2.000000     0.000000    21.000000     0.000000     0.000000   \n",
      "50%       3.000000     0.000000    28.000000     0.000000     0.000000   \n",
      "75%       3.000000     1.000000    39.000000     1.000000     0.000000   \n",
      "max       3.000000     1.000000    80.000000     8.000000     9.000000   \n",
      "\n",
      "              fare        body  \n",
      "count  1308.000000  121.000000  \n",
      "mean     33.295479  160.809917  \n",
      "std      51.758668   97.696922  \n",
      "min       0.000000    1.000000  \n",
      "25%       7.895800   72.000000  \n",
      "50%      14.454200  155.000000  \n",
      "75%      31.275000  256.000000  \n",
      "max     512.329200  328.000000  \n"
     ]
    }
   ],
   "source": [
    "# Resumen estadístico de las columnas numéricas\n",
    "print(\"\\nResumen estadístico:\")\n",
    "print(df.describe())"
   ]
  },
  {
   "cell_type": "markdown",
   "metadata": {
    "id": "MnftxNSiQD3Q"
   },
   "source": [
    "Hacer algún análisis de Missing Values"
   ]
  },
  {
   "cell_type": "code",
   "execution_count": 8,
   "metadata": {
    "colab": {
     "base_uri": "https://localhost:8080/",
     "height": 545
    },
    "executionInfo": {
     "elapsed": 2000,
     "status": "ok",
     "timestamp": 1724843835507,
     "user": {
      "displayName": "Guillermo Lezama",
      "userId": "17067344961324283134"
     },
     "user_tz": 180
    },
    "id": "jVxSd6-XQDZA",
    "outputId": "9a1f1ab9-c38a-4066-cfd7-edb7ae8b84d5"
   },
   "outputs": [
    {
     "data": {
      "image/png": "[encoded data removed]",
      "text/plain": [
       "<Figure size 1000x600 with 1 Axes>"
      ]
     },
     "metadata": {},
     "output_type": "display_data"
    }
   ],
   "source": [
    "# Visualicemos los missing values. Si estuvieran todos juntos, o igual de espaciados, podría haber algún problema\n",
    "import seaborn as sns\n",
    "import matplotlib.pyplot as plt\n",
    "import numpy as np\n",
    "\n",
    "plt.figure(figsize=(10, 6))\n",
    "sns.heatmap(df.isnull(), cbar=False, cmap='viridis')\n",
    "plt.title('Missing Values Heatmap')\n",
    "plt.show()"
   ]
  },
  {
   "cell_type": "markdown",
   "metadata": {
    "id": "RAIYRPtTQQlR"
   },
   "source": [
    "* Cabin y Home.dest parecen problemáticas por la distribución. Qué significa esa distribución?\n",
    "* Muchos missing values en boat. Será que es missing para los no sobrevivientes?\n",
    "* Muchos missing values en body. Será que es missing para los sobrevivientes?"
   ]
  },
  {
   "cell_type": "markdown",
   "metadata": {
    "id": "Gx-z6RGTZGBB"
   },
   "source": [
    "Primero, miremos si son muy diferentes por edad.\n",
    "---\n",
    "\n"
   ]
  },
  {
   "cell_type": "code",
   "execution_count": 9,
   "metadata": {
    "colab": {
     "base_uri": "https://localhost:8080/",
     "height": 508
    },
    "executionInfo": {
     "elapsed": 766,
     "status": "ok",
     "timestamp": 1724843836270,
     "user": {
      "displayName": "Guillermo Lezama",
      "userId": "17067344961324283134"
     },
     "user_tz": 180
    },
    "id": "SiO0wvwD4tXA",
    "outputId": "507c636e-d7a0-46f0-f3d3-1e3c6084db87"
   },
   "outputs": [
    {
     "name": "stdout",
     "output_type": "stream",
     "text": [
      "\n",
      "Comparando la distribución de Edad por clase:\n"
     ]
    },
    {
     "data": {
      "image/png": "[encoded data removed]",
      "text/plain": [
       "<Figure size 640x480 with 1 Axes>"
      ]
     },
     "metadata": {},
     "output_type": "display_data"
    }
   ],
   "source": [
    "# Comparar la distribución de la edad por clase\n",
    "print(\"\\nComparando la distribución de Edad por clase:\")\n",
    "sns.violinplot(x='pclass', y='age', data=df)\n",
    "plt.title('Distribución de Edad por Clase')\n",
    "plt.show()"
   ]
  },
  {
   "cell_type": "markdown",
   "metadata": {
    "id": "PtWfbaURPUU2"
   },
   "source": [
    "* Las distribuciones de edad por clase son distintas.\n",
    "* A peor clase, más jóvenes.\n",
    "* En 2da y 3era, hay mucha concentración alrededor de los 30's."
   ]
  },
  {
   "cell_type": "code",
   "execution_count": 10,
   "metadata": {
    "colab": {
     "base_uri": "https://localhost:8080/",
     "height": 508
    },
    "executionInfo": {
     "elapsed": 1884,
     "status": "ok",
     "timestamp": 1724843838144,
     "user": {
      "displayName": "Guillermo Lezama",
      "userId": "17067344961324283134"
     },
     "user_tz": 180
    },
    "id": "FLZptdfsML5m",
    "outputId": "d9070826-3fea-4b0c-a587-e61e3d665a98"
   },
   "outputs": [
    {
     "name": "stdout",
     "output_type": "stream",
     "text": [
      "\n",
      "Comparando la Tarifa Media Pagada por Clase:\n"
     ]
    },
    {
     "data": {
      "image/png": "[encoded data removed]",
      "text/plain": [
       "<Figure size 640x480 with 1 Axes>"
      ]
     },
     "metadata": {},
     "output_type": "display_data"
    }
   ],
   "source": [
    "# Comparar la tarifa media pagada por clase\n",
    "print(\"\\nComparando la Tarifa Media Pagada por Clase:\")\n",
    "sns.barplot(x='pclass', y='fare', hue='sex', data=df)\n",
    "plt.title('Tarifa Media Pagada por Clase y Sexo')\n",
    "plt.show()"
   ]
  },
  {
   "cell_type": "markdown",
   "metadata": {
    "id": "LLy57U1cSCeA"
   },
   "source": [
    "Dado que la tarifa representa bien la clase, miremos correlaciones entre edad y tarifa."
   ]
  },
  {
   "cell_type": "code",
   "execution_count": 11,
   "metadata": {
    "colab": {
     "base_uri": "https://localhost:8080/"
    },
    "executionInfo": {
     "elapsed": 31,
     "status": "ok",
     "timestamp": 1724843838144,
     "user": {
      "displayName": "Guillermo Lezama",
      "userId": "17067344961324283134"
     },
     "user_tz": 180
    },
    "id": "QP1Uxpd748sC",
    "outputId": "a57969aa-a547-4855-ecd3-c79c4f2e14fe"
   },
   "outputs": [
    {
     "name": "stdout",
     "output_type": "stream",
     "text": [
      "Correlación de Pearson entre Edad y Tarifa: 0.1787393231464611\n"
     ]
    }
   ],
   "source": [
    "# Correlación de Pearson entre edad y tarifa pagada\n",
    "pearson_corr = df['age'].corr(df['fare'], method='pearson')\n",
    "print(f\"Correlación de Pearson entre Edad y Tarifa: {pearson_corr}\")"
   ]
  },
  {
   "cell_type": "code",
   "execution_count": 12,
   "metadata": {
    "colab": {
     "base_uri": "https://localhost:8080/"
    },
    "executionInfo": {
     "elapsed": 30,
     "status": "ok",
     "timestamp": 1724843838145,
     "user": {
      "displayName": "Guillermo Lezama",
      "userId": "17067344961324283134"
     },
     "user_tz": 180
    },
    "id": "YIIQFsjROF7i",
    "outputId": "9f365fe0-b857-43dd-d714-bbc79481daae"
   },
   "outputs": [
    {
     "name": "stdout",
     "output_type": "stream",
     "text": [
      "Correlación de Spearman entre Edad y Tarifa: 0.19267576103868872\n"
     ]
    }
   ],
   "source": [
    "# Correlación de Spearman entre edad y tarifa pagada\n",
    "spearman_corr = df['age'].corr(df['fare'], method='spearman')\n",
    "print(f\"Correlación de Spearman entre Edad y Tarifa: {spearman_corr}\")"
   ]
  },
  {
   "cell_type": "markdown",
   "metadata": {
    "id": "AXJzQRvON8XQ"
   },
   "source": [
    "Aunque existe una tendencia lineal donde, en general, a mayor edad podría asociarse con una tarifa más alta, la relación es débil, lo que significa que la edad no es un buen predictor de la tarifa pagada."
   ]
  },
  {
   "cell_type": "markdown",
   "metadata": {
    "id": "OTi2nQPFN_Z2"
   },
   "source": [
    "Spearman sugiere que hay una relación monotónica positiva débil, donde a medida que la edad aumenta, tiende a aumentar la tarifa pagada, pero esta relación no necesariamente es lineal. Dado que Spearman es más robusto frente a outliers y no requiere linealidad, este resultado puede reflejar que la relación entre edad y tarifa es más compleja y no estrictamente lineal."
   ]
  },
  {
   "cell_type": "code",
   "execution_count": 13,
   "metadata": {
    "colab": {
     "base_uri": "https://localhost:8080/"
    },
    "executionInfo": {
     "elapsed": 27,
     "status": "ok",
     "timestamp": 1724843838145,
     "user": {
      "displayName": "Guillermo Lezama",
      "userId": "17067344961324283134"
     },
     "user_tz": 180
    },
    "id": "ZYtDZcLsSM0T",
    "outputId": "a563a171-244a-4563-9ff7-173d631ede3e"
   },
   "outputs": [
    {
     "name": "stdout",
     "output_type": "stream",
     "text": [
      "28.918228103044495 30.54536882067851\n"
     ]
    }
   ],
   "source": [
    "# Computar medias entre edad para los sobrevivientes\n",
    "survived = df[df['survived'] == 1]['age'].dropna()\n",
    "not_survived = df[df['survived'] == 0]['age'].dropna()\n",
    "\n",
    "print(np.mean(survived),np.mean(not_survived))"
   ]
  },
  {
   "cell_type": "markdown",
   "metadata": {
    "id": "YKYc9oUFSklX"
   },
   "source": [
    "Es una diferencia significativa?"
   ]
  },
  {
   "cell_type": "code",
   "execution_count": 14,
   "metadata": {
    "colab": {
     "base_uri": "https://localhost:8080/"
    },
    "executionInfo": {
     "elapsed": 24,
     "status": "ok",
     "timestamp": 1724843838145,
     "user": {
      "displayName": "Guillermo Lezama",
      "userId": "17067344961324283134"
     },
     "user_tz": 180
    },
    "id": "acxnNZ9J4_Dl",
    "outputId": "137d9316-c315-49cd-9415-118626cf80b7"
   },
   "outputs": [
    {
     "name": "stdout",
     "output_type": "stream",
     "text": [
      "t-test para Edad y Supervivencia: t-stat=-1.7964345385118163, p-value=0.07271443942634347\n"
     ]
    }
   ],
   "source": [
    "from scipy.stats import ttest_ind, chi2_contingency, f_oneway\n",
    "\n",
    "# t-test: Comparar la edad entre pasajeros que sobrevivieron y los que no\n",
    "t_stat, p_val = ttest_ind(survived, not_survived)\n",
    "print(f\"t-test para Edad y Supervivencia: t-stat={t_stat}, p-value={p_val}\")"
   ]
  },
  {
   "cell_type": "markdown",
   "metadata": {
    "id": "PiyIRr3VOVF0"
   },
   "source": [
    "No se puede rechazar la hipótesis nula al nivel de significancia del 5%. Esto significa que no hay evidencia suficiente para afirmar que existe una diferencia significativa en la edad promedio entre los pasajeros que sobrevivieron y los que no."
   ]
  },
  {
   "cell_type": "code",
   "execution_count": 15,
   "metadata": {
    "colab": {
     "base_uri": "https://localhost:8080/"
    },
    "executionInfo": {
     "elapsed": 22,
     "status": "ok",
     "timestamp": 1724843838146,
     "user": {
      "displayName": "Guillermo Lezama",
      "userId": "17067344961324283134"
     },
     "user_tz": 180
    },
    "id": "Xq5eWRifSsDa",
    "outputId": "b006e968-56a1-414e-b03e-427fb1ea620d"
   },
   "outputs": [
    {
     "name": "stdout",
     "output_type": "stream",
     "text": [
      "pclass\n",
      "1    0.619195\n",
      "2    0.429603\n",
      "3    0.255289\n",
      "Name: survived, dtype: float64\n"
     ]
    }
   ],
   "source": [
    "#Computar medias de sobrevivencia por clase.\n",
    "print(df[['survived','pclass']].groupby('pclass').mean()['survived'])"
   ]
  },
  {
   "cell_type": "code",
   "execution_count": 16,
   "metadata": {
    "colab": {
     "base_uri": "https://localhost:8080/"
    },
    "executionInfo": {
     "elapsed": 19,
     "status": "ok",
     "timestamp": 1724843838146,
     "user": {
      "displayName": "Guillermo Lezama",
      "userId": "17067344961324283134"
     },
     "user_tz": 180
    },
    "id": "731r_acGS_8R",
    "outputId": "03188f12-84cb-42f0-ea28-03a5ffe34297"
   },
   "outputs": [
    {
     "name": "stdout",
     "output_type": "stream",
     "text": [
      "Object `primero` not found.\n"
     ]
    }
   ],
   "source": [
    "Los niños primero?"
   ]
  },
  {
   "cell_type": "code",
   "execution_count": 17,
   "metadata": {
    "colab": {
     "base_uri": "https://localhost:8080/"
    },
    "executionInfo": {
     "elapsed": 14,
     "status": "ok",
     "timestamp": 1724843838146,
     "user": {
      "displayName": "Guillermo Lezama",
      "userId": "17067344961324283134"
     },
     "user_tz": 180
    },
    "id": "cKGF591cTDlH",
    "outputId": "5d612b07-5f66-4d0d-e918-5b475b036beb"
   },
   "outputs": [
    {
     "name": "stdout",
     "output_type": "stream",
     "text": [
      "Tasas de Supervivencia por Grupo Etario:\n",
      "age_group\n",
      "Niños              0.575758\n",
      "Jóvenes            0.404255\n",
      "Jóvenes_adultos    0.386064\n",
      "Adultos            0.411765\n",
      "Mayores            0.242424\n",
      "Name: survived, dtype: float64\n"
     ]
    }
   ],
   "source": [
    "# Definir grupos etarios: Niños (menores de 18), Adultos Jóvenes (18-35), Adultos (36-60), y Mayores (más de 60)\n",
    "df['age_group'] = pd.cut(df['age'], bins=[0, 13, 18, 35, 60, 100], labels=['Niños', 'Jóvenes', 'Jóvenes_adultos', 'Adultos', 'Mayores'])\n",
    "\n",
    "# Computar tasas de supervivencia por grupo etario\n",
    "survival_rates_by_age_group = df[['survived', 'age_group']].groupby('age_group').mean()['survived']\n",
    "\n",
    "# Mostrar las tasas de supervivencia por grupo etario\n",
    "print(\"Tasas de Supervivencia por Grupo Etario:\")\n",
    "print(survival_rates_by_age_group)"
   ]
  },
  {
   "cell_type": "code",
   "execution_count": 18,
   "metadata": {
    "colab": {
     "base_uri": "https://localhost:8080/"
    },
    "executionInfo": {
     "elapsed": 652,
     "status": "ok",
     "timestamp": 1724844342540,
     "user": {
      "displayName": "Guillermo Lezama",
      "userId": "17067344961324283134"
     },
     "user_tz": 180
    },
    "id": "dtbd2lVSS-gf",
    "outputId": "65a4d009-cb86-4e36-dbab-e7e28ccd7547"
   },
   "outputs": [
    {
     "name": "stdout",
     "output_type": "stream",
     "text": [
      "Object `primero` not found.\n"
     ]
    }
   ],
   "source": [
    "Las mujeres primero?"
   ]
  },
  {
   "cell_type": "code",
   "execution_count": 19,
   "metadata": {
    "colab": {
     "base_uri": "https://localhost:8080/"
    },
    "executionInfo": {
     "elapsed": 713,
     "status": "ok",
     "timestamp": 1724844379092,
     "user": {
      "displayName": "Guillermo Lezama",
      "userId": "17067344961324283134"
     },
     "user_tz": 180
    },
    "id": "il7O-LmhTnYD",
    "outputId": "7edbea86-9754-41aa-bc93-325ce0163a85"
   },
   "outputs": [
    {
     "name": "stdout",
     "output_type": "stream",
     "text": [
      "sex\n",
      "female    0.727468\n",
      "male      0.190985\n",
      "Name: survived, dtype: float64\n"
     ]
    }
   ],
   "source": [
    "print(df[['survived', 'sex']].groupby('sex').mean()['survived'])"
   ]
  },
  {
   "cell_type": "code",
   "execution_count": 20,
   "metadata": {
    "colab": {
     "base_uri": "https://localhost:8080/",
     "height": 174
    },
    "executionInfo": {
     "elapsed": 348,
     "status": "ok",
     "timestamp": 1724844531909,
     "user": {
      "displayName": "Guillermo Lezama",
      "userId": "17067344961324283134"
     },
     "user_tz": 180
    },
    "id": "l5xn5MEnvtdh",
    "outputId": "178a440a-aef1-4b7a-f6dd-e191f98a65d2"
   },
   "outputs": [
    {
     "data": {
      "text/html": [
       "<div>\n",
       "<style scoped>\n",
       "    .dataframe tbody tr th:only-of-type {\n",
       "        vertical-align: middle;\n",
       "    }\n",
       "\n",
       "    .dataframe tbody tr th {\n",
       "        vertical-align: top;\n",
       "    }\n",
       "\n",
       "    .dataframe thead th {\n",
       "        text-align: right;\n",
       "    }\n",
       "</style>\n",
       "<table border=\"1\" class=\"dataframe\">\n",
       "  <thead>\n",
       "    <tr style=\"text-align: right;\">\n",
       "      <th>survived</th>\n",
       "      <th>0</th>\n",
       "      <th>1</th>\n",
       "    </tr>\n",
       "    <tr>\n",
       "      <th>pclass</th>\n",
       "      <th></th>\n",
       "      <th></th>\n",
       "    </tr>\n",
       "  </thead>\n",
       "  <tbody>\n",
       "    <tr>\n",
       "      <th>1</th>\n",
       "      <td>123</td>\n",
       "      <td>200</td>\n",
       "    </tr>\n",
       "    <tr>\n",
       "      <th>2</th>\n",
       "      <td>158</td>\n",
       "      <td>119</td>\n",
       "    </tr>\n",
       "    <tr>\n",
       "      <th>3</th>\n",
       "      <td>528</td>\n",
       "      <td>181</td>\n",
       "    </tr>\n",
       "  </tbody>\n",
       "</table>\n",
       "</div>"
      ],
      "text/plain": [
       "survived    0    1\n",
       "pclass            \n",
       "1         123  200\n",
       "2         158  119\n",
       "3         528  181"
      ]
     },
     "execution_count": 20,
     "metadata": {},
     "output_type": "execute_result"
    }
   ],
   "source": [
    "pd.crosstab(df['pclass'], df['survived'])"
   ]
  },
  {
   "cell_type": "code",
   "execution_count": 21,
   "metadata": {
    "colab": {
     "base_uri": "https://localhost:8080/"
    },
    "executionInfo": {
     "elapsed": 508,
     "status": "ok",
     "timestamp": 1724844710968,
     "user": {
      "displayName": "Guillermo Lezama",
      "userId": "17067344961324283134"
     },
     "user_tz": 180
    },
    "id": "W-XgdjHNwGkl",
    "outputId": "dd9a0afa-a841-4524-c3c8-a7e1a667fbd1"
   },
   "outputs": [
    {
     "name": "stdout",
     "output_type": "stream",
     "text": [
      "0.6191950464396285\n",
      "0.4296028880866426\n",
      "0.2552891396332863\n"
     ]
    }
   ],
   "source": [
    "# Frecuencias observadas de supervivencia\n",
    "# Clase 1\n",
    "print(200/(200+123))\n",
    "# Clase 2\n",
    "print(119/(158+119))\n",
    "# Clase 3\n",
    "print(181/(528+181))"
   ]
  },
  {
   "cell_type": "code",
   "execution_count": 22,
   "metadata": {
    "colab": {
     "base_uri": "https://localhost:8080/"
    },
    "executionInfo": {
     "elapsed": 311,
     "status": "ok",
     "timestamp": 1724844822712,
     "user": {
      "displayName": "Guillermo Lezama",
      "userId": "17067344961324283134"
     },
     "user_tz": 180
    },
    "id": "vQMsYsF15Cye",
    "outputId": "03dfbb42-81e2-46aa-d96d-006bb3d68892"
   },
   "outputs": [
    {
     "name": "stdout",
     "output_type": "stream",
     "text": [
      "Prueba de Chi-cuadrado para Clase y Supervivencia: chi2=127.85915643930326, p-value=1.7208259588256175e-28\n"
     ]
    }
   ],
   "source": [
    "# Chi-cuadrado: Comparemos la supervivencia por clase mirando si son significativas.\n",
    "contingency_table = pd.crosstab(df['pclass'], df['survived'])\n",
    "chi2, p, dof, ex = chi2_contingency(contingency_table)\n",
    "print(f\"Prueba de Chi-cuadrado para Clase y Supervivencia: chi2={chi2}, p-value={p}\")"
   ]
  },
  {
   "cell_type": "markdown",
   "metadata": {
    "id": "NBChsYWexOZD"
   },
   "source": [
    "La probabilidad de supervivencia está relacionada con la edad, con el género y con la clase."
   ]
  },
  {
   "cell_type": "markdown",
   "metadata": {
    "id": "ZYfR4euYK60H"
   },
   "source": [
    "Computar las edades de supervivencia para los pasajeros del titanic por clase. Son diferentes?"
   ]
  },
  {
   "cell_type": "code",
   "execution_count": 23,
   "metadata": {
    "colab": {
     "base_uri": "https://localhost:8080/"
    },
    "executionInfo": {
     "elapsed": 370,
     "status": "ok",
     "timestamp": 1724845086097,
     "user": {
      "displayName": "Guillermo Lezama",
      "userId": "17067344961324283134"
     },
     "user_tz": 180
    },
    "id": "4Ane1hrgUn-U",
    "outputId": "20699a34-496a-4926-db45-8f0ed7373c04"
   },
   "outputs": [
    {
     "name": "stdout",
     "output_type": "stream",
     "text": [
      "age_group        pclass\n",
      "Niños            1         0.833333\n",
      "                 2         1.000000\n",
      "                 3         0.397059\n",
      "Jóvenes          1         0.866667\n",
      "                 2         0.352941\n",
      "                 3         0.306452\n",
      "Jóvenes_adultos  1         0.731959\n",
      "                 2         0.421769\n",
      "                 3         0.250871\n",
      "Adultos          1         0.593103\n",
      "                 2         0.318182\n",
      "                 3         0.153846\n",
      "Mayores          1         0.285714\n",
      "                 2         0.166667\n",
      "                 3         0.166667\n",
      "Name: survived, dtype: float64\n"
     ]
    }
   ],
   "source": [
    "# Miremos primero la probabilidad de supervivencia por grupo etario\n",
    "print(df[['survived', 'age_group', 'pclass']].groupby(['age_group', 'pclass']).mean()['survived'])"
   ]
  },
  {
   "cell_type": "markdown",
   "metadata": {
    "id": "7IqN7MIizB6x"
   },
   "source": [
    "* En cualquier grupo etaria la probabilidad de 1era clase es mayor.\n",
    "* Siempre en 2da es mayor que en 3era.\n",
    "\n",
    "Aún cuando fijamos la edad, la clase es re importante."
   ]
  },
  {
   "cell_type": "code",
   "execution_count": 24,
   "metadata": {
    "colab": {
     "base_uri": "https://localhost:8080/"
    },
    "executionInfo": {
     "elapsed": 11,
     "status": "ok",
     "timestamp": 1724845364102,
     "user": {
      "displayName": "Guillermo Lezama",
      "userId": "17067344961324283134"
     },
     "user_tz": 180
    },
    "id": "vn1no1yEyLXI",
    "outputId": "c7e8edb7-c3c5-43c5-c54a-28e52b7e6915"
   },
   "outputs": [
    {
     "name": "stdout",
     "output_type": "stream",
     "text": [
      "age_group        pclass  sex   \n",
      "Niños            1       female      1\n",
      "                         male        5\n",
      "                 2       female     14\n",
      "                         male       11\n",
      "                 3       female     31\n",
      "                         male       37\n",
      "Jóvenes          1       female     12\n",
      "                         male        3\n",
      "                 2       female      7\n",
      "                         male       10\n",
      "                 3       female     27\n",
      "                         male       35\n",
      "Jóvenes_adultos  1       female     53\n",
      "                         male       44\n",
      "                 2       female     58\n",
      "                         male       89\n",
      "                 3       female     71\n",
      "                         male      216\n",
      "Adultos          1       female     61\n",
      "                         male       84\n",
      "                 2       female     24\n",
      "                         male       42\n",
      "                 3       female     22\n",
      "                         male       56\n",
      "Mayores          1       female      6\n",
      "                         male       15\n",
      "                 2       female      0\n",
      "                         male        6\n",
      "                 3       female      1\n",
      "                         male        5\n",
      "Name: survived, dtype: int64\n"
     ]
    }
   ],
   "source": [
    "print(df[['survived', 'age_group', 'pclass', 'sex']].groupby(['age_group', 'pclass', 'sex' ]).count()['survived'])\n"
   ]
  },
  {
   "cell_type": "code",
   "execution_count": 25,
   "metadata": {
    "id": "xdfG6WI4VF0p"
   },
   "outputs": [],
   "source": [
    "# Comparemos la edad promedio de supervivencia por clase\n",
    "# Filtrar los datos para incluir solo los pasajeros que sobrevivieron\n",
    "survived = df[df['survived'] == 1]\n",
    "not_survived = df[df['survived'] == 0]"
   ]
  },
  {
   "cell_type": "code",
   "execution_count": 26,
   "metadata": {
    "colab": {
     "base_uri": "https://localhost:8080/"
    },
    "executionInfo": {
     "elapsed": 403,
     "status": "ok",
     "timestamp": 1724846174561,
     "user": {
      "displayName": "Guillermo Lezama",
      "userId": "17067344961324283134"
     },
     "user_tz": 180
    },
    "id": "RMk1J-yMWHUG",
    "outputId": "9064f3a0-4414-429c-e883-70cd9b71124b"
   },
   "outputs": [
    {
     "name": "stdout",
     "output_type": "stream",
     "text": [
      "              age\n",
      "pclass           \n",
      "1       36.833794\n",
      "2       24.858696\n",
      "3       21.545166\n",
      "              age\n",
      "pclass           \n",
      "1       43.247573\n",
      "2       33.167808\n",
      "3       25.974549\n"
     ]
    }
   ],
   "source": [
    "print(survived[['pclass', 'age']].groupby('pclass').mean())\n",
    "print(not_survived[['pclass', 'age']].groupby('pclass').mean())"
   ]
  },
  {
   "cell_type": "markdown",
   "metadata": {
    "id": "OvSNAenO1jyj"
   },
   "source": [
    "Para cada clase, los que sobrevivieron son más jóvenes en promedio que los que no."
   ]
  },
  {
   "cell_type": "code",
   "execution_count": 27,
   "metadata": {
    "colab": {
     "base_uri": "https://localhost:8080/"
    },
    "executionInfo": {
     "elapsed": 560,
     "status": "ok",
     "timestamp": 1724846179035,
     "user": {
      "displayName": "Guillermo Lezama",
      "userId": "17067344961324283134"
     },
     "user_tz": 180
    },
    "id": "POhq2UxPO0lf",
    "outputId": "89280513-2498-491b-9e14-cbbd3f350362"
   },
   "outputs": [
    {
     "name": "stdout",
     "output_type": "stream",
     "text": [
      "ANOVA para Edad y Clase entre Supervivientes: F-stat=56.57794094318898, p-value=1.6606971545777764e-22\n"
     ]
    }
   ],
   "source": [
    "# Aplicar ANOVA para comparar la edad entre las diferentes clases\n",
    "anova_result = f_oneway(survived[survived['pclass'] == 1]['age'].dropna(),\n",
    "                        survived[survived['pclass'] == 2]['age'].dropna(),\n",
    "                        survived[survived['pclass'] == 3]['age'].dropna())\n",
    "\n",
    "print(f\"ANOVA para Edad y Clase entre Supervivientes: F-stat={anova_result.statistic}, p-value={anova_result.pvalue}\")\n"
   ]
  },
  {
   "cell_type": "markdown",
   "metadata": {
    "id": "9P5mlx8A2A6q"
   },
   "source": [
    "La hipótesis nula es que la edad promedio de los sobrevivientes es igual para cada clase. Esto es rechazado.\n",
    "\n",
    "En el grafico de violines habiamos visto que las edades de todos los pasajeros ya eran diferentes. Entonces es esperado que en los sobreviviente, o en los que fallecieron las edades sean diferentes."
   ]
  },
  {
   "cell_type": "code",
   "execution_count": 28,
   "metadata": {
    "colab": {
     "base_uri": "https://localhost:8080/"
    },
    "executionInfo": {
     "elapsed": 366,
     "status": "ok",
     "timestamp": 1724846362964,
     "user": {
      "displayName": "Guillermo Lezama",
      "userId": "17067344961324283134"
     },
     "user_tz": 180
    },
    "id": "AJe680W22jzJ",
    "outputId": "bc02e944-0178-43bf-b1f8-6b16a5726967"
   },
   "outputs": [
    {
     "name": "stdout",
     "output_type": "stream",
     "text": [
      "sex     pclass\n",
      "female  1         0.965278\n",
      "        2         0.886792\n",
      "        3         0.490741\n",
      "male    1         0.340782\n",
      "        2         0.146199\n",
      "        3         0.152130\n",
      "Name: survived, dtype: float64\n"
     ]
    }
   ],
   "source": [
    "# Miremos primero la probabilidad de supervivencia por grupo etario\n",
    "print(df[['survived', 'sex', 'pclass']].groupby(['sex', 'pclass']).mean()['survived'])"
   ]
  },
  {
   "cell_type": "markdown",
   "metadata": {
    "id": "jYSQuhGH2ye9"
   },
   "source": [
    "Dentro de cada sexo, la clase importa."
   ]
  },
  {
   "cell_type": "code",
   "execution_count": 29,
   "metadata": {
    "colab": {
     "base_uri": "https://localhost:8080/",
     "height": 1000
    },
    "executionInfo": {
     "elapsed": 19,
     "status": "ok",
     "timestamp": 1724846510647,
     "user": {
      "displayName": "Guillermo Lezama",
      "userId": "17067344961324283134"
     },
     "user_tz": 180
    },
    "id": "Bky-5ibb3ElZ",
    "outputId": "8e7f8420-c6a4-48a9-ad0f-0457c9273b9d"
   },
   "outputs": [
    {
     "data": {
      "text/plain": [
       "sex     age_group        pclass\n",
       "female  Niños            1         0.000000\n",
       "                         2         1.000000\n",
       "                         3         0.483871\n",
       "        Jóvenes          1         1.000000\n",
       "                         2         0.857143\n",
       "                         3         0.592593\n",
       "        Jóvenes_adultos  1         0.981132\n",
       "                         2         0.896552\n",
       "                         3         0.464789\n",
       "        Adultos          1         0.967213\n",
       "                         2         0.833333\n",
       "                         3         0.318182\n",
       "        Mayores          1         0.833333\n",
       "                         2              NaN\n",
       "                         3         1.000000\n",
       "male    Niños            1         1.000000\n",
       "                         2         1.000000\n",
       "                         3         0.324324\n",
       "        Jóvenes          1         0.333333\n",
       "                         2         0.000000\n",
       "                         3         0.085714\n",
       "        Jóvenes_adultos  1         0.431818\n",
       "                         2         0.112360\n",
       "                         3         0.180556\n",
       "        Adultos          1         0.321429\n",
       "                         2         0.023810\n",
       "                         3         0.089286\n",
       "        Mayores          1         0.066667\n",
       "                         2         0.166667\n",
       "                         3         0.000000\n",
       "Name: survived, dtype: float64"
      ]
     },
     "execution_count": 29,
     "metadata": {},
     "output_type": "execute_result"
    }
   ],
   "source": [
    "# Miremos primero la probabilidad de supervivencia por grupo etario\n",
    "df[['survived', 'sex', 'pclass', 'age_group']].groupby(['sex', 'age_group' ,'pclass']).mean()['survived']"
   ]
  },
  {
   "cell_type": "markdown",
   "metadata": {
    "id": "9NGFMINx5P0k"
   },
   "source": [
    "Extra: Hacer t-tests para el Mall Dataset, comparando income, age y expenditure score entre Male and Females (en vez de entre diferentes clases)"
   ]
  }
 ],
 "metadata": {
  "colab": {
   "provenance": []
  },
  "kernelspec": {
   "display_name": "Python 3 (ipykernel)",
   "language": "python",
   "name": "python3"
  },
  "language_info": {
   "codemirror_mode": {
    "name": "ipython",
    "version": 3
   },
   "file_extension": ".py",
   "mimetype": "text/x-python",
   "name": "python",
   "nbconvert_exporter": "python",
   "pygments_lexer": "ipython3",
   "version": "3.11.3"
  }
 },
 "nbformat": 4,
 "nbformat_minor": 1
}
